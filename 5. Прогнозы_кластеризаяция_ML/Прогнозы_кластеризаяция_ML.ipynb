{
 "cells": [
  {
   "cell_type": "markdown",
   "metadata": {},
   "source": [
    "# «Культурист-датасаентист» разработка взаимодействия с пользователями на основе аналитических данных"
   ]
  },
  {
   "cell_type": "markdown",
   "metadata": {},
   "source": [
    "Проведем работу для Сети фитнес-центров «Культурист-датасаентист» по направлению изучения оттока пользователей, а также кластеризуем клиентов и дадим рекомендации"
   ]
  },
  {
   "cell_type": "markdown",
   "metadata": {},
   "source": [
    "### Оглавление\n",
    "1. [Шаг 1. Загрузка данных и библиотек](#1_id)\n",
    "2. [Шаг 2. Проведем исследовательский анализ данных (EDA)](#2_id)\n",
    "3. [Шаг 3. Построим модель прогнозирования оттока пользователей](#3_id)\n",
    "4. [Шаг 4. Кластеризация пользователей](#4_id)\n",
    "5. [Шаг 5. Сформулируем выводы и сделаем базовые рекомендации по работе с клиентами](#5_id)\n"
   ]
  },
  {
   "cell_type": "markdown",
   "metadata": {},
   "source": [
    "## Шаг 1. Загрузка данных и библиотек <a id=\"1_id\"></a>"
   ]
  },
  {
   "cell_type": "markdown",
   "metadata": {},
   "source": [
    "Загрузим необходимые библиотеки"
   ]
  },
  {
   "cell_type": "code",
   "execution_count": 299,
   "metadata": {},
   "outputs": [],
   "source": [
    "import pandas as pd\n",
    "from matplotlib import pyplot as plt\n",
    "from plotly import graph_objects as go\n",
    "import seaborn as sns\n",
    "from sklearn.preprocessing import StandardScaler\n",
    "from sklearn.model_selection import train_test_split\n",
    "from sklearn.linear_model import Lasso, Ridge, LogisticRegression\n",
    "from sklearn.tree import DecisionTreeRegressor\n",
    "from sklearn.ensemble import RandomForestRegressor, GradientBoostingRegressor\n",
    "from sklearn.metrics import mean_absolute_error, mean_squared_error, r2_score\n",
    "from sklearn.metrics import accuracy_score, precision_score, recall_score \n",
    "from sklearn.ensemble import RandomForestRegressor, RandomForestClassifier\n",
    "import warnings\n",
    "warnings.filterwarnings('ignore')   "
   ]
  },
  {
   "cell_type": "markdown",
   "metadata": {},
   "source": [
    "Загрузим датасет"
   ]
  },
  {
   "cell_type": "code",
   "execution_count": 300,
   "metadata": {},
   "outputs": [],
   "source": [
    "data = pd.read_csv('/datasets/gym_churn.csv')"
   ]
  },
  {
   "cell_type": "markdown",
   "metadata": {},
   "source": [
    "Прочитаем первые 10 строк"
   ]
  },
  {
   "cell_type": "code",
   "execution_count": 301,
   "metadata": {},
   "outputs": [
    {
     "data": {
      "text/html": [
       "<div>\n",
       "<style scoped>\n",
       "    .dataframe tbody tr th:only-of-type {\n",
       "        vertical-align: middle;\n",
       "    }\n",
       "\n",
       "    .dataframe tbody tr th {\n",
       "        vertical-align: top;\n",
       "    }\n",
       "\n",
       "    .dataframe thead th {\n",
       "        text-align: right;\n",
       "    }\n",
       "</style>\n",
       "<table border=\"1\" class=\"dataframe\">\n",
       "  <thead>\n",
       "    <tr style=\"text-align: right;\">\n",
       "      <th></th>\n",
       "      <th>gender</th>\n",
       "      <th>Near_Location</th>\n",
       "      <th>Partner</th>\n",
       "      <th>Promo_friends</th>\n",
       "      <th>Phone</th>\n",
       "      <th>Contract_period</th>\n",
       "      <th>Group_visits</th>\n",
       "      <th>Age</th>\n",
       "      <th>Avg_additional_charges_total</th>\n",
       "      <th>Month_to_end_contract</th>\n",
       "      <th>Lifetime</th>\n",
       "      <th>Avg_class_frequency_total</th>\n",
       "      <th>Avg_class_frequency_current_month</th>\n",
       "      <th>Churn</th>\n",
       "    </tr>\n",
       "  </thead>\n",
       "  <tbody>\n",
       "    <tr>\n",
       "      <td>0</td>\n",
       "      <td>1</td>\n",
       "      <td>1</td>\n",
       "      <td>1</td>\n",
       "      <td>1</td>\n",
       "      <td>0</td>\n",
       "      <td>6</td>\n",
       "      <td>1</td>\n",
       "      <td>29</td>\n",
       "      <td>14.227470</td>\n",
       "      <td>5.0</td>\n",
       "      <td>3</td>\n",
       "      <td>0.020398</td>\n",
       "      <td>0.000000</td>\n",
       "      <td>0</td>\n",
       "    </tr>\n",
       "    <tr>\n",
       "      <td>1</td>\n",
       "      <td>0</td>\n",
       "      <td>1</td>\n",
       "      <td>0</td>\n",
       "      <td>0</td>\n",
       "      <td>1</td>\n",
       "      <td>12</td>\n",
       "      <td>1</td>\n",
       "      <td>31</td>\n",
       "      <td>113.202938</td>\n",
       "      <td>12.0</td>\n",
       "      <td>7</td>\n",
       "      <td>1.922936</td>\n",
       "      <td>1.910244</td>\n",
       "      <td>0</td>\n",
       "    </tr>\n",
       "    <tr>\n",
       "      <td>2</td>\n",
       "      <td>0</td>\n",
       "      <td>1</td>\n",
       "      <td>1</td>\n",
       "      <td>0</td>\n",
       "      <td>1</td>\n",
       "      <td>1</td>\n",
       "      <td>0</td>\n",
       "      <td>28</td>\n",
       "      <td>129.448479</td>\n",
       "      <td>1.0</td>\n",
       "      <td>2</td>\n",
       "      <td>1.859098</td>\n",
       "      <td>1.736502</td>\n",
       "      <td>0</td>\n",
       "    </tr>\n",
       "    <tr>\n",
       "      <td>3</td>\n",
       "      <td>0</td>\n",
       "      <td>1</td>\n",
       "      <td>1</td>\n",
       "      <td>1</td>\n",
       "      <td>1</td>\n",
       "      <td>12</td>\n",
       "      <td>1</td>\n",
       "      <td>33</td>\n",
       "      <td>62.669863</td>\n",
       "      <td>12.0</td>\n",
       "      <td>2</td>\n",
       "      <td>3.205633</td>\n",
       "      <td>3.357215</td>\n",
       "      <td>0</td>\n",
       "    </tr>\n",
       "    <tr>\n",
       "      <td>4</td>\n",
       "      <td>1</td>\n",
       "      <td>1</td>\n",
       "      <td>1</td>\n",
       "      <td>1</td>\n",
       "      <td>1</td>\n",
       "      <td>1</td>\n",
       "      <td>0</td>\n",
       "      <td>26</td>\n",
       "      <td>198.362265</td>\n",
       "      <td>1.0</td>\n",
       "      <td>3</td>\n",
       "      <td>1.113884</td>\n",
       "      <td>1.120078</td>\n",
       "      <td>0</td>\n",
       "    </tr>\n",
       "    <tr>\n",
       "      <td>5</td>\n",
       "      <td>1</td>\n",
       "      <td>1</td>\n",
       "      <td>0</td>\n",
       "      <td>0</td>\n",
       "      <td>1</td>\n",
       "      <td>1</td>\n",
       "      <td>1</td>\n",
       "      <td>34</td>\n",
       "      <td>450.743960</td>\n",
       "      <td>1.0</td>\n",
       "      <td>3</td>\n",
       "      <td>2.623477</td>\n",
       "      <td>2.637007</td>\n",
       "      <td>0</td>\n",
       "    </tr>\n",
       "    <tr>\n",
       "      <td>6</td>\n",
       "      <td>1</td>\n",
       "      <td>1</td>\n",
       "      <td>1</td>\n",
       "      <td>1</td>\n",
       "      <td>0</td>\n",
       "      <td>6</td>\n",
       "      <td>1</td>\n",
       "      <td>32</td>\n",
       "      <td>94.266389</td>\n",
       "      <td>6.0</td>\n",
       "      <td>2</td>\n",
       "      <td>1.138941</td>\n",
       "      <td>1.277242</td>\n",
       "      <td>0</td>\n",
       "    </tr>\n",
       "    <tr>\n",
       "      <td>7</td>\n",
       "      <td>0</td>\n",
       "      <td>1</td>\n",
       "      <td>0</td>\n",
       "      <td>0</td>\n",
       "      <td>1</td>\n",
       "      <td>1</td>\n",
       "      <td>0</td>\n",
       "      <td>30</td>\n",
       "      <td>217.786641</td>\n",
       "      <td>1.0</td>\n",
       "      <td>0</td>\n",
       "      <td>1.213502</td>\n",
       "      <td>1.049387</td>\n",
       "      <td>1</td>\n",
       "    </tr>\n",
       "    <tr>\n",
       "      <td>8</td>\n",
       "      <td>1</td>\n",
       "      <td>1</td>\n",
       "      <td>1</td>\n",
       "      <td>1</td>\n",
       "      <td>1</td>\n",
       "      <td>1</td>\n",
       "      <td>1</td>\n",
       "      <td>23</td>\n",
       "      <td>45.409909</td>\n",
       "      <td>1.0</td>\n",
       "      <td>1</td>\n",
       "      <td>1.106239</td>\n",
       "      <td>1.059333</td>\n",
       "      <td>0</td>\n",
       "    </tr>\n",
       "    <tr>\n",
       "      <td>9</td>\n",
       "      <td>0</td>\n",
       "      <td>1</td>\n",
       "      <td>0</td>\n",
       "      <td>0</td>\n",
       "      <td>1</td>\n",
       "      <td>1</td>\n",
       "      <td>0</td>\n",
       "      <td>31</td>\n",
       "      <td>65.310836</td>\n",
       "      <td>1.0</td>\n",
       "      <td>11</td>\n",
       "      <td>1.810852</td>\n",
       "      <td>1.951368</td>\n",
       "      <td>0</td>\n",
       "    </tr>\n",
       "  </tbody>\n",
       "</table>\n",
       "</div>"
      ],
      "text/plain": [
       "   gender  Near_Location  Partner  Promo_friends  Phone  Contract_period  \\\n",
       "0       1              1        1              1      0                6   \n",
       "1       0              1        0              0      1               12   \n",
       "2       0              1        1              0      1                1   \n",
       "3       0              1        1              1      1               12   \n",
       "4       1              1        1              1      1                1   \n",
       "5       1              1        0              0      1                1   \n",
       "6       1              1        1              1      0                6   \n",
       "7       0              1        0              0      1                1   \n",
       "8       1              1        1              1      1                1   \n",
       "9       0              1        0              0      1                1   \n",
       "\n",
       "   Group_visits  Age  Avg_additional_charges_total  Month_to_end_contract  \\\n",
       "0             1   29                     14.227470                    5.0   \n",
       "1             1   31                    113.202938                   12.0   \n",
       "2             0   28                    129.448479                    1.0   \n",
       "3             1   33                     62.669863                   12.0   \n",
       "4             0   26                    198.362265                    1.0   \n",
       "5             1   34                    450.743960                    1.0   \n",
       "6             1   32                     94.266389                    6.0   \n",
       "7             0   30                    217.786641                    1.0   \n",
       "8             1   23                     45.409909                    1.0   \n",
       "9             0   31                     65.310836                    1.0   \n",
       "\n",
       "   Lifetime  Avg_class_frequency_total  Avg_class_frequency_current_month  \\\n",
       "0         3                   0.020398                           0.000000   \n",
       "1         7                   1.922936                           1.910244   \n",
       "2         2                   1.859098                           1.736502   \n",
       "3         2                   3.205633                           3.357215   \n",
       "4         3                   1.113884                           1.120078   \n",
       "5         3                   2.623477                           2.637007   \n",
       "6         2                   1.138941                           1.277242   \n",
       "7         0                   1.213502                           1.049387   \n",
       "8         1                   1.106239                           1.059333   \n",
       "9        11                   1.810852                           1.951368   \n",
       "\n",
       "   Churn  \n",
       "0      0  \n",
       "1      0  \n",
       "2      0  \n",
       "3      0  \n",
       "4      0  \n",
       "5      0  \n",
       "6      0  \n",
       "7      1  \n",
       "8      0  \n",
       "9      0  "
      ]
     },
     "execution_count": 301,
     "metadata": {},
     "output_type": "execute_result"
    }
   ],
   "source": [
    "data.head(10)"
   ]
  },
  {
   "cell_type": "markdown",
   "metadata": {},
   "source": [
    "Посмотрим info"
   ]
  },
  {
   "cell_type": "code",
   "execution_count": 302,
   "metadata": {},
   "outputs": [
    {
     "name": "stdout",
     "output_type": "stream",
     "text": [
      "<class 'pandas.core.frame.DataFrame'>\n",
      "RangeIndex: 4000 entries, 0 to 3999\n",
      "Data columns (total 14 columns):\n",
      "gender                               4000 non-null int64\n",
      "Near_Location                        4000 non-null int64\n",
      "Partner                              4000 non-null int64\n",
      "Promo_friends                        4000 non-null int64\n",
      "Phone                                4000 non-null int64\n",
      "Contract_period                      4000 non-null int64\n",
      "Group_visits                         4000 non-null int64\n",
      "Age                                  4000 non-null int64\n",
      "Avg_additional_charges_total         4000 non-null float64\n",
      "Month_to_end_contract                4000 non-null float64\n",
      "Lifetime                             4000 non-null int64\n",
      "Avg_class_frequency_total            4000 non-null float64\n",
      "Avg_class_frequency_current_month    4000 non-null float64\n",
      "Churn                                4000 non-null int64\n",
      "dtypes: float64(4), int64(10)\n",
      "memory usage: 437.6 KB\n"
     ]
    }
   ],
   "source": [
    "data.info()"
   ]
  },
  {
   "cell_type": "markdown",
   "metadata": {},
   "source": [
    "Пропусков нет, данные приведены к нужным типам, единственное что смущает - заглавные буквы в наименованиях колонок"
   ]
  },
  {
   "cell_type": "code",
   "execution_count": 303,
   "metadata": {},
   "outputs": [],
   "source": [
    "data.columns = data.columns.str.lower()"
   ]
  },
  {
   "cell_type": "markdown",
   "metadata": {},
   "source": [
    "Отлично, загрузили данные, проверили на ошибки, изменили наименование заголовков, переходим к шагу 2."
   ]
  },
  {
   "cell_type": "markdown",
   "metadata": {},
   "source": [
    "## Шаг 2. Проведем исследовательский анализ данных (EDA) <a id=\"2_id\"></a>"
   ]
  },
  {
   "cell_type": "markdown",
   "metadata": {},
   "source": [
    "#### Посмотрим на датасет: есть ли в нем отсутствующие признаки, изучим средние значения и стандартные отклонения"
   ]
  },
  {
   "cell_type": "code",
   "execution_count": 304,
   "metadata": {},
   "outputs": [
    {
     "data": {
      "text/html": [
       "<style  type=\"text/css\" >\n",
       "</style><table id=\"T_b0a9b1b2_b487_11ea_b191_02420a39de91\" ><thead>    <tr>        <th class=\"blank level0\" ></th>        <th class=\"col_heading level0 col0\" >gender</th>        <th class=\"col_heading level0 col1\" >near_location</th>        <th class=\"col_heading level0 col2\" >partner</th>        <th class=\"col_heading level0 col3\" >promo_friends</th>        <th class=\"col_heading level0 col4\" >phone</th>        <th class=\"col_heading level0 col5\" >contract_period</th>        <th class=\"col_heading level0 col6\" >group_visits</th>        <th class=\"col_heading level0 col7\" >age</th>        <th class=\"col_heading level0 col8\" >avg_additional_charges_total</th>        <th class=\"col_heading level0 col9\" >month_to_end_contract</th>        <th class=\"col_heading level0 col10\" >lifetime</th>        <th class=\"col_heading level0 col11\" >avg_class_frequency_total</th>        <th class=\"col_heading level0 col12\" >avg_class_frequency_current_month</th>        <th class=\"col_heading level0 col13\" >churn</th>    </tr></thead><tbody>\n",
       "                <tr>\n",
       "                        <th id=\"T_b0a9b1b2_b487_11ea_b191_02420a39de91level0_row0\" class=\"row_heading level0 row0\" >count</th>\n",
       "                        <td id=\"T_b0a9b1b2_b487_11ea_b191_02420a39de91row0_col0\" class=\"data row0 col0\" >4000</td>\n",
       "                        <td id=\"T_b0a9b1b2_b487_11ea_b191_02420a39de91row0_col1\" class=\"data row0 col1\" >4000</td>\n",
       "                        <td id=\"T_b0a9b1b2_b487_11ea_b191_02420a39de91row0_col2\" class=\"data row0 col2\" >4000</td>\n",
       "                        <td id=\"T_b0a9b1b2_b487_11ea_b191_02420a39de91row0_col3\" class=\"data row0 col3\" >4000</td>\n",
       "                        <td id=\"T_b0a9b1b2_b487_11ea_b191_02420a39de91row0_col4\" class=\"data row0 col4\" >4000</td>\n",
       "                        <td id=\"T_b0a9b1b2_b487_11ea_b191_02420a39de91row0_col5\" class=\"data row0 col5\" >4000</td>\n",
       "                        <td id=\"T_b0a9b1b2_b487_11ea_b191_02420a39de91row0_col6\" class=\"data row0 col6\" >4000</td>\n",
       "                        <td id=\"T_b0a9b1b2_b487_11ea_b191_02420a39de91row0_col7\" class=\"data row0 col7\" >4000</td>\n",
       "                        <td id=\"T_b0a9b1b2_b487_11ea_b191_02420a39de91row0_col8\" class=\"data row0 col8\" >4000</td>\n",
       "                        <td id=\"T_b0a9b1b2_b487_11ea_b191_02420a39de91row0_col9\" class=\"data row0 col9\" >4000</td>\n",
       "                        <td id=\"T_b0a9b1b2_b487_11ea_b191_02420a39de91row0_col10\" class=\"data row0 col10\" >4000</td>\n",
       "                        <td id=\"T_b0a9b1b2_b487_11ea_b191_02420a39de91row0_col11\" class=\"data row0 col11\" >4000</td>\n",
       "                        <td id=\"T_b0a9b1b2_b487_11ea_b191_02420a39de91row0_col12\" class=\"data row0 col12\" >4000</td>\n",
       "                        <td id=\"T_b0a9b1b2_b487_11ea_b191_02420a39de91row0_col13\" class=\"data row0 col13\" >4000</td>\n",
       "            </tr>\n",
       "            <tr>\n",
       "                        <th id=\"T_b0a9b1b2_b487_11ea_b191_02420a39de91level0_row1\" class=\"row_heading level0 row1\" >mean</th>\n",
       "                        <td id=\"T_b0a9b1b2_b487_11ea_b191_02420a39de91row1_col0\" class=\"data row1 col0\" >0.51025</td>\n",
       "                        <td id=\"T_b0a9b1b2_b487_11ea_b191_02420a39de91row1_col1\" class=\"data row1 col1\" >0.84525</td>\n",
       "                        <td id=\"T_b0a9b1b2_b487_11ea_b191_02420a39de91row1_col2\" class=\"data row1 col2\" >0.48675</td>\n",
       "                        <td id=\"T_b0a9b1b2_b487_11ea_b191_02420a39de91row1_col3\" class=\"data row1 col3\" >0.3085</td>\n",
       "                        <td id=\"T_b0a9b1b2_b487_11ea_b191_02420a39de91row1_col4\" class=\"data row1 col4\" >0.9035</td>\n",
       "                        <td id=\"T_b0a9b1b2_b487_11ea_b191_02420a39de91row1_col5\" class=\"data row1 col5\" >4.6813</td>\n",
       "                        <td id=\"T_b0a9b1b2_b487_11ea_b191_02420a39de91row1_col6\" class=\"data row1 col6\" >0.41225</td>\n",
       "                        <td id=\"T_b0a9b1b2_b487_11ea_b191_02420a39de91row1_col7\" class=\"data row1 col7\" >29.184</td>\n",
       "                        <td id=\"T_b0a9b1b2_b487_11ea_b191_02420a39de91row1_col8\" class=\"data row1 col8\" >146.94</td>\n",
       "                        <td id=\"T_b0a9b1b2_b487_11ea_b191_02420a39de91row1_col9\" class=\"data row1 col9\" >4.3228</td>\n",
       "                        <td id=\"T_b0a9b1b2_b487_11ea_b191_02420a39de91row1_col10\" class=\"data row1 col10\" >3.7247</td>\n",
       "                        <td id=\"T_b0a9b1b2_b487_11ea_b191_02420a39de91row1_col11\" class=\"data row1 col11\" >1.879</td>\n",
       "                        <td id=\"T_b0a9b1b2_b487_11ea_b191_02420a39de91row1_col12\" class=\"data row1 col12\" >1.7671</td>\n",
       "                        <td id=\"T_b0a9b1b2_b487_11ea_b191_02420a39de91row1_col13\" class=\"data row1 col13\" >0.26525</td>\n",
       "            </tr>\n",
       "            <tr>\n",
       "                        <th id=\"T_b0a9b1b2_b487_11ea_b191_02420a39de91level0_row2\" class=\"row_heading level0 row2\" >std</th>\n",
       "                        <td id=\"T_b0a9b1b2_b487_11ea_b191_02420a39de91row2_col0\" class=\"data row2 col0\" >0.49996</td>\n",
       "                        <td id=\"T_b0a9b1b2_b487_11ea_b191_02420a39de91row2_col1\" class=\"data row2 col1\" >0.36171</td>\n",
       "                        <td id=\"T_b0a9b1b2_b487_11ea_b191_02420a39de91row2_col2\" class=\"data row2 col2\" >0.49989</td>\n",
       "                        <td id=\"T_b0a9b1b2_b487_11ea_b191_02420a39de91row2_col3\" class=\"data row2 col3\" >0.46193</td>\n",
       "                        <td id=\"T_b0a9b1b2_b487_11ea_b191_02420a39de91row2_col4\" class=\"data row2 col4\" >0.29531</td>\n",
       "                        <td id=\"T_b0a9b1b2_b487_11ea_b191_02420a39de91row2_col5\" class=\"data row2 col5\" >4.5497</td>\n",
       "                        <td id=\"T_b0a9b1b2_b487_11ea_b191_02420a39de91row2_col6\" class=\"data row2 col6\" >0.4923</td>\n",
       "                        <td id=\"T_b0a9b1b2_b487_11ea_b191_02420a39de91row2_col7\" class=\"data row2 col7\" >3.2584</td>\n",
       "                        <td id=\"T_b0a9b1b2_b487_11ea_b191_02420a39de91row2_col8\" class=\"data row2 col8\" >96.356</td>\n",
       "                        <td id=\"T_b0a9b1b2_b487_11ea_b191_02420a39de91row2_col9\" class=\"data row2 col9\" >4.1913</td>\n",
       "                        <td id=\"T_b0a9b1b2_b487_11ea_b191_02420a39de91row2_col10\" class=\"data row2 col10\" >3.7493</td>\n",
       "                        <td id=\"T_b0a9b1b2_b487_11ea_b191_02420a39de91row2_col11\" class=\"data row2 col11\" >0.97224</td>\n",
       "                        <td id=\"T_b0a9b1b2_b487_11ea_b191_02420a39de91row2_col12\" class=\"data row2 col12\" >1.0529</td>\n",
       "                        <td id=\"T_b0a9b1b2_b487_11ea_b191_02420a39de91row2_col13\" class=\"data row2 col13\" >0.44152</td>\n",
       "            </tr>\n",
       "            <tr>\n",
       "                        <th id=\"T_b0a9b1b2_b487_11ea_b191_02420a39de91level0_row3\" class=\"row_heading level0 row3\" >min</th>\n",
       "                        <td id=\"T_b0a9b1b2_b487_11ea_b191_02420a39de91row3_col0\" class=\"data row3 col0\" >0</td>\n",
       "                        <td id=\"T_b0a9b1b2_b487_11ea_b191_02420a39de91row3_col1\" class=\"data row3 col1\" >0</td>\n",
       "                        <td id=\"T_b0a9b1b2_b487_11ea_b191_02420a39de91row3_col2\" class=\"data row3 col2\" >0</td>\n",
       "                        <td id=\"T_b0a9b1b2_b487_11ea_b191_02420a39de91row3_col3\" class=\"data row3 col3\" >0</td>\n",
       "                        <td id=\"T_b0a9b1b2_b487_11ea_b191_02420a39de91row3_col4\" class=\"data row3 col4\" >0</td>\n",
       "                        <td id=\"T_b0a9b1b2_b487_11ea_b191_02420a39de91row3_col5\" class=\"data row3 col5\" >1</td>\n",
       "                        <td id=\"T_b0a9b1b2_b487_11ea_b191_02420a39de91row3_col6\" class=\"data row3 col6\" >0</td>\n",
       "                        <td id=\"T_b0a9b1b2_b487_11ea_b191_02420a39de91row3_col7\" class=\"data row3 col7\" >18</td>\n",
       "                        <td id=\"T_b0a9b1b2_b487_11ea_b191_02420a39de91row3_col8\" class=\"data row3 col8\" >0.1482</td>\n",
       "                        <td id=\"T_b0a9b1b2_b487_11ea_b191_02420a39de91row3_col9\" class=\"data row3 col9\" >1</td>\n",
       "                        <td id=\"T_b0a9b1b2_b487_11ea_b191_02420a39de91row3_col10\" class=\"data row3 col10\" >0</td>\n",
       "                        <td id=\"T_b0a9b1b2_b487_11ea_b191_02420a39de91row3_col11\" class=\"data row3 col11\" >0</td>\n",
       "                        <td id=\"T_b0a9b1b2_b487_11ea_b191_02420a39de91row3_col12\" class=\"data row3 col12\" >0</td>\n",
       "                        <td id=\"T_b0a9b1b2_b487_11ea_b191_02420a39de91row3_col13\" class=\"data row3 col13\" >0</td>\n",
       "            </tr>\n",
       "            <tr>\n",
       "                        <th id=\"T_b0a9b1b2_b487_11ea_b191_02420a39de91level0_row4\" class=\"row_heading level0 row4\" >25%</th>\n",
       "                        <td id=\"T_b0a9b1b2_b487_11ea_b191_02420a39de91row4_col0\" class=\"data row4 col0\" >0</td>\n",
       "                        <td id=\"T_b0a9b1b2_b487_11ea_b191_02420a39de91row4_col1\" class=\"data row4 col1\" >1</td>\n",
       "                        <td id=\"T_b0a9b1b2_b487_11ea_b191_02420a39de91row4_col2\" class=\"data row4 col2\" >0</td>\n",
       "                        <td id=\"T_b0a9b1b2_b487_11ea_b191_02420a39de91row4_col3\" class=\"data row4 col3\" >0</td>\n",
       "                        <td id=\"T_b0a9b1b2_b487_11ea_b191_02420a39de91row4_col4\" class=\"data row4 col4\" >1</td>\n",
       "                        <td id=\"T_b0a9b1b2_b487_11ea_b191_02420a39de91row4_col5\" class=\"data row4 col5\" >1</td>\n",
       "                        <td id=\"T_b0a9b1b2_b487_11ea_b191_02420a39de91row4_col6\" class=\"data row4 col6\" >0</td>\n",
       "                        <td id=\"T_b0a9b1b2_b487_11ea_b191_02420a39de91row4_col7\" class=\"data row4 col7\" >27</td>\n",
       "                        <td id=\"T_b0a9b1b2_b487_11ea_b191_02420a39de91row4_col8\" class=\"data row4 col8\" >68.869</td>\n",
       "                        <td id=\"T_b0a9b1b2_b487_11ea_b191_02420a39de91row4_col9\" class=\"data row4 col9\" >1</td>\n",
       "                        <td id=\"T_b0a9b1b2_b487_11ea_b191_02420a39de91row4_col10\" class=\"data row4 col10\" >1</td>\n",
       "                        <td id=\"T_b0a9b1b2_b487_11ea_b191_02420a39de91row4_col11\" class=\"data row4 col11\" >1.1809</td>\n",
       "                        <td id=\"T_b0a9b1b2_b487_11ea_b191_02420a39de91row4_col12\" class=\"data row4 col12\" >0.963</td>\n",
       "                        <td id=\"T_b0a9b1b2_b487_11ea_b191_02420a39de91row4_col13\" class=\"data row4 col13\" >0</td>\n",
       "            </tr>\n",
       "            <tr>\n",
       "                        <th id=\"T_b0a9b1b2_b487_11ea_b191_02420a39de91level0_row5\" class=\"row_heading level0 row5\" >50%</th>\n",
       "                        <td id=\"T_b0a9b1b2_b487_11ea_b191_02420a39de91row5_col0\" class=\"data row5 col0\" >1</td>\n",
       "                        <td id=\"T_b0a9b1b2_b487_11ea_b191_02420a39de91row5_col1\" class=\"data row5 col1\" >1</td>\n",
       "                        <td id=\"T_b0a9b1b2_b487_11ea_b191_02420a39de91row5_col2\" class=\"data row5 col2\" >0</td>\n",
       "                        <td id=\"T_b0a9b1b2_b487_11ea_b191_02420a39de91row5_col3\" class=\"data row5 col3\" >0</td>\n",
       "                        <td id=\"T_b0a9b1b2_b487_11ea_b191_02420a39de91row5_col4\" class=\"data row5 col4\" >1</td>\n",
       "                        <td id=\"T_b0a9b1b2_b487_11ea_b191_02420a39de91row5_col5\" class=\"data row5 col5\" >1</td>\n",
       "                        <td id=\"T_b0a9b1b2_b487_11ea_b191_02420a39de91row5_col6\" class=\"data row5 col6\" >0</td>\n",
       "                        <td id=\"T_b0a9b1b2_b487_11ea_b191_02420a39de91row5_col7\" class=\"data row5 col7\" >29</td>\n",
       "                        <td id=\"T_b0a9b1b2_b487_11ea_b191_02420a39de91row5_col8\" class=\"data row5 col8\" >136.22</td>\n",
       "                        <td id=\"T_b0a9b1b2_b487_11ea_b191_02420a39de91row5_col9\" class=\"data row5 col9\" >1</td>\n",
       "                        <td id=\"T_b0a9b1b2_b487_11ea_b191_02420a39de91row5_col10\" class=\"data row5 col10\" >3</td>\n",
       "                        <td id=\"T_b0a9b1b2_b487_11ea_b191_02420a39de91row5_col11\" class=\"data row5 col11\" >1.8328</td>\n",
       "                        <td id=\"T_b0a9b1b2_b487_11ea_b191_02420a39de91row5_col12\" class=\"data row5 col12\" >1.7196</td>\n",
       "                        <td id=\"T_b0a9b1b2_b487_11ea_b191_02420a39de91row5_col13\" class=\"data row5 col13\" >0</td>\n",
       "            </tr>\n",
       "            <tr>\n",
       "                        <th id=\"T_b0a9b1b2_b487_11ea_b191_02420a39de91level0_row6\" class=\"row_heading level0 row6\" >75%</th>\n",
       "                        <td id=\"T_b0a9b1b2_b487_11ea_b191_02420a39de91row6_col0\" class=\"data row6 col0\" >1</td>\n",
       "                        <td id=\"T_b0a9b1b2_b487_11ea_b191_02420a39de91row6_col1\" class=\"data row6 col1\" >1</td>\n",
       "                        <td id=\"T_b0a9b1b2_b487_11ea_b191_02420a39de91row6_col2\" class=\"data row6 col2\" >1</td>\n",
       "                        <td id=\"T_b0a9b1b2_b487_11ea_b191_02420a39de91row6_col3\" class=\"data row6 col3\" >1</td>\n",
       "                        <td id=\"T_b0a9b1b2_b487_11ea_b191_02420a39de91row6_col4\" class=\"data row6 col4\" >1</td>\n",
       "                        <td id=\"T_b0a9b1b2_b487_11ea_b191_02420a39de91row6_col5\" class=\"data row6 col5\" >6</td>\n",
       "                        <td id=\"T_b0a9b1b2_b487_11ea_b191_02420a39de91row6_col6\" class=\"data row6 col6\" >1</td>\n",
       "                        <td id=\"T_b0a9b1b2_b487_11ea_b191_02420a39de91row6_col7\" class=\"data row6 col7\" >31</td>\n",
       "                        <td id=\"T_b0a9b1b2_b487_11ea_b191_02420a39de91row6_col8\" class=\"data row6 col8\" >210.95</td>\n",
       "                        <td id=\"T_b0a9b1b2_b487_11ea_b191_02420a39de91row6_col9\" class=\"data row6 col9\" >6</td>\n",
       "                        <td id=\"T_b0a9b1b2_b487_11ea_b191_02420a39de91row6_col10\" class=\"data row6 col10\" >5</td>\n",
       "                        <td id=\"T_b0a9b1b2_b487_11ea_b191_02420a39de91row6_col11\" class=\"data row6 col11\" >2.5361</td>\n",
       "                        <td id=\"T_b0a9b1b2_b487_11ea_b191_02420a39de91row6_col12\" class=\"data row6 col12\" >2.5103</td>\n",
       "                        <td id=\"T_b0a9b1b2_b487_11ea_b191_02420a39de91row6_col13\" class=\"data row6 col13\" >1</td>\n",
       "            </tr>\n",
       "            <tr>\n",
       "                        <th id=\"T_b0a9b1b2_b487_11ea_b191_02420a39de91level0_row7\" class=\"row_heading level0 row7\" >max</th>\n",
       "                        <td id=\"T_b0a9b1b2_b487_11ea_b191_02420a39de91row7_col0\" class=\"data row7 col0\" >1</td>\n",
       "                        <td id=\"T_b0a9b1b2_b487_11ea_b191_02420a39de91row7_col1\" class=\"data row7 col1\" >1</td>\n",
       "                        <td id=\"T_b0a9b1b2_b487_11ea_b191_02420a39de91row7_col2\" class=\"data row7 col2\" >1</td>\n",
       "                        <td id=\"T_b0a9b1b2_b487_11ea_b191_02420a39de91row7_col3\" class=\"data row7 col3\" >1</td>\n",
       "                        <td id=\"T_b0a9b1b2_b487_11ea_b191_02420a39de91row7_col4\" class=\"data row7 col4\" >1</td>\n",
       "                        <td id=\"T_b0a9b1b2_b487_11ea_b191_02420a39de91row7_col5\" class=\"data row7 col5\" >12</td>\n",
       "                        <td id=\"T_b0a9b1b2_b487_11ea_b191_02420a39de91row7_col6\" class=\"data row7 col6\" >1</td>\n",
       "                        <td id=\"T_b0a9b1b2_b487_11ea_b191_02420a39de91row7_col7\" class=\"data row7 col7\" >41</td>\n",
       "                        <td id=\"T_b0a9b1b2_b487_11ea_b191_02420a39de91row7_col8\" class=\"data row7 col8\" >552.59</td>\n",
       "                        <td id=\"T_b0a9b1b2_b487_11ea_b191_02420a39de91row7_col9\" class=\"data row7 col9\" >12</td>\n",
       "                        <td id=\"T_b0a9b1b2_b487_11ea_b191_02420a39de91row7_col10\" class=\"data row7 col10\" >31</td>\n",
       "                        <td id=\"T_b0a9b1b2_b487_11ea_b191_02420a39de91row7_col11\" class=\"data row7 col11\" >6.0237</td>\n",
       "                        <td id=\"T_b0a9b1b2_b487_11ea_b191_02420a39de91row7_col12\" class=\"data row7 col12\" >6.1468</td>\n",
       "                        <td id=\"T_b0a9b1b2_b487_11ea_b191_02420a39de91row7_col13\" class=\"data row7 col13\" >1</td>\n",
       "            </tr>\n",
       "    </tbody></table>"
      ],
      "text/plain": [
       "<pandas.io.formats.style.Styler at 0x7fe8cc2e9bd0>"
      ]
     },
     "execution_count": 304,
     "metadata": {},
     "output_type": "execute_result"
    }
   ],
   "source": [
    "data.describe().style.set_precision(5)"
   ]
  },
  {
   "cell_type": "markdown",
   "metadata": {},
   "source": [
    "Так, пол 1 или 0, среднее значение  0,51 (ну в целом понятно), отклонение 0,5 (или к 1 или к 0), что тоже логично\n",
    "Далее расположенность по близости, среднее значение 0,85 (85% находится поблизости от фитнеса), отклонение 0,36.\n",
    "Работодатель партнер 0,49 среднее, отклонение 0,5. Половина клиентов имеют работодателей партнеров, отсюда и отклонение 0,5.\n",
    "Промо для друзей 0,30, отклонение 0,46. Уже встречается пореже чем скидки для партнеров работодателей\n",
    "Наличие телефона 0,90, чтобы его не предоставить? =) отклонение 0,30.\n",
    "Период текущего действующего абонемента средний 4,68, отклонение 4,55. \n",
    "Групповые занятия - 0,41 среднее значение, 0,49 отклонение. \n",
    "Возраст средний - 29,18, отклонение - 3,25\n",
    "Суммарная выручка от дополнительных услуг среднее значение - 146,94, отклонение 96,356\n",
    "Кол-во месяцев до окончания абонемента, среднее значение - 4,32, среднее отклонение 4,19\n",
    "Время с первого обращения в фитнесс, среднее значение 3,72, отклонение 3,75\n",
    "Средняя частота посещений в неделю 1,88, отклонение 0,97\n",
    "Средняя частота посещений в неделю за последний месяц 1,77, отклонение 1,05 (интересная метрика так как у нас тут те клиенты которые совершили отток, интересно посмотреть как сократилось среднее посещение)\n",
    "Ну и сам отток собственно - 0,26 среднее 0,44 отклонение\n",
    "\n",
    "Пропусков нет. Едем дальше"
   ]
  },
  {
   "cell_type": "markdown",
   "metadata": {},
   "source": [
    "#### Посмотрим на средние значения признаков в двух группах — тех, кто ушел в отток и тех, кто остался\n"
   ]
  },
  {
   "cell_type": "code",
   "execution_count": 305,
   "metadata": {},
   "outputs": [
    {
     "data": {
      "text/html": [
       "<style  type=\"text/css\" >\n",
       "</style><table id=\"T_b0acf796_b487_11ea_b191_02420a39de91\" ><thead>    <tr>        <th class=\"blank level0\" ></th>        <th class=\"col_heading level0 col0\" >churn</th>        <th class=\"col_heading level0 col1\" >gender</th>        <th class=\"col_heading level0 col2\" >near_location</th>        <th class=\"col_heading level0 col3\" >partner</th>        <th class=\"col_heading level0 col4\" >promo_friends</th>        <th class=\"col_heading level0 col5\" >phone</th>        <th class=\"col_heading level0 col6\" >contract_period</th>        <th class=\"col_heading level0 col7\" >group_visits</th>        <th class=\"col_heading level0 col8\" >age</th>        <th class=\"col_heading level0 col9\" >avg_additional_charges_total</th>        <th class=\"col_heading level0 col10\" >month_to_end_contract</th>        <th class=\"col_heading level0 col11\" >lifetime</th>        <th class=\"col_heading level0 col12\" >avg_class_frequency_total</th>        <th class=\"col_heading level0 col13\" >avg_class_frequency_current_month</th>    </tr></thead><tbody>\n",
       "                <tr>\n",
       "                        <th id=\"T_b0acf796_b487_11ea_b191_02420a39de91level0_row0\" class=\"row_heading level0 row0\" >0</th>\n",
       "                        <td id=\"T_b0acf796_b487_11ea_b191_02420a39de91row0_col0\" class=\"data row0 col0\" >0</td>\n",
       "                        <td id=\"T_b0acf796_b487_11ea_b191_02420a39de91row0_col1\" class=\"data row0 col1\" >0.51</td>\n",
       "                        <td id=\"T_b0acf796_b487_11ea_b191_02420a39de91row0_col2\" class=\"data row0 col2\" >0.873</td>\n",
       "                        <td id=\"T_b0acf796_b487_11ea_b191_02420a39de91row0_col3\" class=\"data row0 col3\" >0.534</td>\n",
       "                        <td id=\"T_b0acf796_b487_11ea_b191_02420a39de91row0_col4\" class=\"data row0 col4\" >0.354</td>\n",
       "                        <td id=\"T_b0acf796_b487_11ea_b191_02420a39de91row0_col5\" class=\"data row0 col5\" >0.904</td>\n",
       "                        <td id=\"T_b0acf796_b487_11ea_b191_02420a39de91row0_col6\" class=\"data row0 col6\" >5.75</td>\n",
       "                        <td id=\"T_b0acf796_b487_11ea_b191_02420a39de91row0_col7\" class=\"data row0 col7\" >0.464</td>\n",
       "                        <td id=\"T_b0acf796_b487_11ea_b191_02420a39de91row0_col8\" class=\"data row0 col8\" >30</td>\n",
       "                        <td id=\"T_b0acf796_b487_11ea_b191_02420a39de91row0_col9\" class=\"data row0 col9\" >158</td>\n",
       "                        <td id=\"T_b0acf796_b487_11ea_b191_02420a39de91row0_col10\" class=\"data row0 col10\" >5.28</td>\n",
       "                        <td id=\"T_b0acf796_b487_11ea_b191_02420a39de91row0_col11\" class=\"data row0 col11\" >4.71</td>\n",
       "                        <td id=\"T_b0acf796_b487_11ea_b191_02420a39de91row0_col12\" class=\"data row0 col12\" >2.02</td>\n",
       "                        <td id=\"T_b0acf796_b487_11ea_b191_02420a39de91row0_col13\" class=\"data row0 col13\" >2.03</td>\n",
       "            </tr>\n",
       "            <tr>\n",
       "                        <th id=\"T_b0acf796_b487_11ea_b191_02420a39de91level0_row1\" class=\"row_heading level0 row1\" >1</th>\n",
       "                        <td id=\"T_b0acf796_b487_11ea_b191_02420a39de91row1_col0\" class=\"data row1 col0\" >1</td>\n",
       "                        <td id=\"T_b0acf796_b487_11ea_b191_02420a39de91row1_col1\" class=\"data row1 col1\" >0.511</td>\n",
       "                        <td id=\"T_b0acf796_b487_11ea_b191_02420a39de91row1_col2\" class=\"data row1 col2\" >0.768</td>\n",
       "                        <td id=\"T_b0acf796_b487_11ea_b191_02420a39de91row1_col3\" class=\"data row1 col3\" >0.355</td>\n",
       "                        <td id=\"T_b0acf796_b487_11ea_b191_02420a39de91row1_col4\" class=\"data row1 col4\" >0.184</td>\n",
       "                        <td id=\"T_b0acf796_b487_11ea_b191_02420a39de91row1_col5\" class=\"data row1 col5\" >0.903</td>\n",
       "                        <td id=\"T_b0acf796_b487_11ea_b191_02420a39de91row1_col6\" class=\"data row1 col6\" >1.73</td>\n",
       "                        <td id=\"T_b0acf796_b487_11ea_b191_02420a39de91row1_col7\" class=\"data row1 col7\" >0.269</td>\n",
       "                        <td id=\"T_b0acf796_b487_11ea_b191_02420a39de91row1_col8\" class=\"data row1 col8\" >27</td>\n",
       "                        <td id=\"T_b0acf796_b487_11ea_b191_02420a39de91row1_col9\" class=\"data row1 col9\" >115</td>\n",
       "                        <td id=\"T_b0acf796_b487_11ea_b191_02420a39de91row1_col10\" class=\"data row1 col10\" >1.66</td>\n",
       "                        <td id=\"T_b0acf796_b487_11ea_b191_02420a39de91row1_col11\" class=\"data row1 col11\" >0.991</td>\n",
       "                        <td id=\"T_b0acf796_b487_11ea_b191_02420a39de91row1_col12\" class=\"data row1 col12\" >1.47</td>\n",
       "                        <td id=\"T_b0acf796_b487_11ea_b191_02420a39de91row1_col13\" class=\"data row1 col13\" >1.04</td>\n",
       "            </tr>\n",
       "    </tbody></table>"
      ],
      "text/plain": [
       "<pandas.io.formats.style.Styler at 0x7fe8cc4a2e90>"
      ]
     },
     "execution_count": 305,
     "metadata": {},
     "output_type": "execute_result"
    }
   ],
   "source": [
    "comparison = data.groupby('churn').agg('mean').reset_index()\n",
    "comparison.style.set_precision(3)"
   ]
  },
  {
   "cell_type": "markdown",
   "metadata": {},
   "source": [
    "Сравним две группы, пол вроде тот же. Далее удаленность, те кто ушли чаще находились не по близости (в целом на это повлиять нет возможности клиентам было неудобно, только расширять сеть), те кто ушли чаще не имели скидок от работодателей партнеров (а вот тут мы можем повлиять, машина научиться предвидеть отток, а мы им скидочку на следующие абонементы). Промо от друзей у тех кто ушел ниже чем у тех кто остался (по аналогии со скидкой от работодателя можно поступать), показатель наличия телефона одинаков (инструмент для взаимодействия в целом неплохой смс рассылка, звонок), период абонемента который приобретается среди тех кто ушел сильно ниже тех кто остался (про скидки для отточной группы мы в курсе, быть может проблема в том, что дорого брать на подольше?), групповые занятия - клиенты которые покинули нас реже ходят на групповые занятия (быть может тут психологический эффект когда один занимаешься желание пропадает? спорно конечно, не путаю ли я причину со следствием? но факт остается фактом). Дальше у нас возраст, тоже интересные наблюдения. Средний возраст оттока ощутимо меньше среднего возраста тех, кто остался. Плата за доп услуги у оттока также ниже, достаточно сильно ниже (тоже может служить индикатором). Месяцев до окончания контракта у группы оттока - сильно ниже 1,66 (против 5,28 у второй). Дальше у нас лайфтайм. У группы отток 0,991, у второй группы 4,7. Говорит о том, что клиенты часто берут 1 месяц и не продлевают его (также вспомним что средний контракт период у группы отток 1,73).  Среднее посещение зала в целом у оттока 1,47 в неделю, у второй группы 2. Среднее посещение в текущем месяце у оттока 1,04, у второй группы 2,03. В сравнении 2 х последних метрик видно, как падает средне недельная посещаемость."
   ]
  },
  {
   "cell_type": "markdown",
   "metadata": {},
   "source": [
    "#### Построим столбчатые гистограммы и распределения признаков для тех, кто ушёл (отток) и тех, кто остался (не попали в отток);"
   ]
  },
  {
   "cell_type": "markdown",
   "metadata": {},
   "source": [
    "Немного почитали и посравнивали данные, теперь можно построить и полноценные графики"
   ]
  },
  {
   "cell_type": "code",
   "execution_count": 306,
   "metadata": {},
   "outputs": [
    {
     "data": {
      "text/html": [
       "<div>\n",
       "<style scoped>\n",
       "    .dataframe tbody tr th:only-of-type {\n",
       "        vertical-align: middle;\n",
       "    }\n",
       "\n",
       "    .dataframe tbody tr th {\n",
       "        vertical-align: top;\n",
       "    }\n",
       "\n",
       "    .dataframe thead th {\n",
       "        text-align: right;\n",
       "    }\n",
       "</style>\n",
       "<table border=\"1\" class=\"dataframe\">\n",
       "  <thead>\n",
       "    <tr style=\"text-align: right;\">\n",
       "      <th></th>\n",
       "      <th>Отток</th>\n",
       "      <th>Пол</th>\n",
       "      <th>Близкое расположение</th>\n",
       "      <th>Работодатель-партнер</th>\n",
       "      <th>Промо друга</th>\n",
       "      <th>Телефон</th>\n",
       "      <th>Период контракта</th>\n",
       "      <th>групповые занятия</th>\n",
       "      <th>Возраст</th>\n",
       "      <th>Выручка по доп услугам</th>\n",
       "      <th>Месяцев до окончания контракта</th>\n",
       "      <th>Месяцев с 1го обращения</th>\n",
       "      <th>Средненедельное посещение</th>\n",
       "      <th>Средненедельное посещение за текущий месяц</th>\n",
       "    </tr>\n",
       "  </thead>\n",
       "  <tbody>\n",
       "    <tr>\n",
       "      <td>0</td>\n",
       "      <td>Не отток</td>\n",
       "      <td>0.510037</td>\n",
       "      <td>0.873086</td>\n",
       "      <td>0.534195</td>\n",
       "      <td>0.353522</td>\n",
       "      <td>0.903709</td>\n",
       "      <td>5.747193</td>\n",
       "      <td>0.464103</td>\n",
       "      <td>29.976523</td>\n",
       "      <td>158.445715</td>\n",
       "      <td>5.283089</td>\n",
       "      <td>4.711807</td>\n",
       "      <td>2.024876</td>\n",
       "      <td>2.027882</td>\n",
       "    </tr>\n",
       "    <tr>\n",
       "      <td>1</td>\n",
       "      <td>Отток</td>\n",
       "      <td>0.510839</td>\n",
       "      <td>0.768143</td>\n",
       "      <td>0.355325</td>\n",
       "      <td>0.183789</td>\n",
       "      <td>0.902922</td>\n",
       "      <td>1.728558</td>\n",
       "      <td>0.268615</td>\n",
       "      <td>26.989632</td>\n",
       "      <td>115.082899</td>\n",
       "      <td>1.662582</td>\n",
       "      <td>0.990575</td>\n",
       "      <td>1.474995</td>\n",
       "      <td>1.044546</td>\n",
       "    </tr>\n",
       "  </tbody>\n",
       "</table>\n",
       "</div>"
      ],
      "text/plain": [
       "      Отток       Пол  Близкое расположение  Работодатель-партнер  \\\n",
       "0  Не отток  0.510037              0.873086              0.534195   \n",
       "1     Отток  0.510839              0.768143              0.355325   \n",
       "\n",
       "   Промо друга   Телефон  Период контракта  групповые занятия    Возраст  \\\n",
       "0     0.353522  0.903709          5.747193           0.464103  29.976523   \n",
       "1     0.183789  0.902922          1.728558           0.268615  26.989632   \n",
       "\n",
       "   Выручка по доп услугам  Месяцев до окончания контракта  \\\n",
       "0              158.445715                        5.283089   \n",
       "1              115.082899                        1.662582   \n",
       "\n",
       "   Месяцев с 1го обращения  Средненедельное посещение  \\\n",
       "0                 4.711807                   2.024876   \n",
       "1                 0.990575                   1.474995   \n",
       "\n",
       "   Средненедельное посещение за текущий месяц  \n",
       "0                                    2.027882  \n",
       "1                                    1.044546  "
      ]
     },
     "execution_count": 306,
     "metadata": {},
     "output_type": "execute_result"
    }
   ],
   "source": [
    "comparison.columns = ['Отток', 'Пол', 'Близкое расположение', 'Работодатель-партнер', \n",
    "                      'Промо друга', 'Телефон', 'Период контракта', 'групповые занятия', \n",
    "                      'Возраст', 'Выручка по доп услугам', 'Месяцев до окончания контракта', \n",
    "                      'Месяцев с 1го обращения', 'Средненедельное посещение', 'Средненедельное посещение за текущий месяц']\n",
    "comparison['Отток'] = comparison['Отток'].replace(0, 'Не отток')\n",
    "comparison['Отток'] = comparison['Отток'].replace(1, 'Отток')\n",
    "comparison"
   ]
  },
  {
   "cell_type": "code",
   "execution_count": 307,
   "metadata": {
    "scrolled": false
   },
   "outputs": [
    {
     "data": {
      "text/plain": [
       "<matplotlib.axes._subplots.AxesSubplot at 0x7fe8cc1703d0>"
      ]
     },
     "execution_count": 307,
     "metadata": {},
     "output_type": "execute_result"
    },
    {
     "data": {
      "image/png": "[encoded data removed]",
      "text/plain": [
       "<Figure size 1008x1080 with 12 Axes>"
      ]
     },
     "metadata": {
      "needs_background": "light"
     },
     "output_type": "display_data"
    }
   ],
   "source": [
    "f, axes = plt.subplots(4, 3, figsize=(14, 15), sharex=True)\n",
    "sns.barplot(x=\"Отток\", y='Пол', data=comparison, ax=axes[0, 0]) \n",
    "sns.barplot(x=\"Отток\", y='Близкое расположение', data=comparison, ax=axes[0, 1]) \n",
    "sns.barplot(x=\"Отток\", y='Работодатель-партнер', data=comparison, ax=axes[0, 2]) \n",
    "sns.barplot(x=\"Отток\", y='Промо друга', data=comparison, ax=axes[1, 0]) \n",
    "sns.barplot(x=\"Отток\", y='Период контракта', data=comparison, ax=axes[1, 1]) \n",
    "sns.barplot(x=\"Отток\", y='групповые занятия', data=comparison, ax=axes[1, 2]) \n",
    "sns.barplot(x=\"Отток\", y='Возраст', data=comparison, ax=axes[2, 0]) \n",
    "sns.barplot(x=\"Отток\", y='Выручка по доп услугам', data=comparison, ax=axes[2, 1]) \n",
    "sns.barplot(x=\"Отток\", y='Месяцев до окончания контракта', data=comparison, ax=axes[2, 2]) \n",
    "sns.barplot(x=\"Отток\", y='Месяцев с 1го обращения', data=comparison, ax=axes[3, 0]) \n",
    "sns.barplot(x=\"Отток\", y='Средненедельное посещение', data=comparison, ax=axes[3, 1]) \n",
    "sns.barplot(x=\"Отток\", y='Средненедельное посещение за текущий месяц', data=comparison, ax=axes[3, 2]) \n"
   ]
  },
  {
   "cell_type": "markdown",
   "metadata": {},
   "source": [
    "В текущем формате удобно и наглядно представлена вся информация"
   ]
  },
  {
   "cell_type": "markdown",
   "metadata": {},
   "source": [
    "#### Построим матрицу корреляций"
   ]
  },
  {
   "cell_type": "markdown",
   "metadata": {},
   "source": [
    "У нас очень много колонок и когда будем сравнивать их будет нечитаемо, лучше сразу построим тепловую карту"
   ]
  },
  {
   "cell_type": "code",
   "execution_count": 308,
   "metadata": {},
   "outputs": [
    {
     "data": {
      "text/plain": [
       "<matplotlib.axes._subplots.AxesSubplot at 0x7fe8cbfae590>"
      ]
     },
     "execution_count": 308,
     "metadata": {},
     "output_type": "execute_result"
    },
    {
     "data": {
      "image/png": "[encoded data removed]",
      "text/plain": [
       "<Figure size 936x648 with 2 Axes>"
      ]
     },
     "metadata": {
      "needs_background": "light"
     },
     "output_type": "display_data"
    }
   ],
   "source": [
    "plt.figure(figsize=(13, 9))\n",
    "plt.title('Матрица корреляций всего датасета')\n",
    "sns.heatmap(data.corr(), annot=True, fmt='.1f', linewidths=1, linecolor='gray')"
   ]
  },
  {
   "cell_type": "markdown",
   "metadata": {},
   "source": [
    "Пол и телефон не коррелирует ни с чем. Локации рядом с местами пребывания коррелируют с Промо друзьями, периодом контракта и групповыми занятиями. Партнерка и промо друга хорошо коррелирует (видимо те, кто получает от работы скидки зовут и рекомендуют друзьям). Партнерка и период контракта тоже неплохо, чем дешевле, тем больше берем =). а период и месяцев до окончания между собой коррелируют, так что опосредовано коррелируют и с партнеркой. Промо друга также неплохо влияет с периодом и с сопутствующим периоду сроку до окончания периода подписки. Взаимно чрезмерно коррелируют друг с другом средняя посещаемость и средняя посещаемость в последний месяц. Позже для машинного обучения уберем из датасета Телефон, Пол, Кол-во месяцев контракта (они одинаково коррелируют с месяцами до конца периодом контракта), и среднюю посещаемость за все время (слишком коррелирует с посещаемостью за последний месяц, но хуже с целевым показателем оттока). Вроде остальные в порядке. Идем дальше"
   ]
  },
  {
   "cell_type": "markdown",
   "metadata": {},
   "source": [
    "## Шаг 3. Построим модель прогнозирования оттока пользователей  <a id=\"3_id\"></a>"
   ]
  },
  {
   "cell_type": "markdown",
   "metadata": {},
   "source": [
    "Начнем с чистки столбцов. Уберем столбцы, которые не влияют на ситуацию или слишком коррелируют внутри себя"
   ]
  },
  {
   "cell_type": "code",
   "execution_count": 309,
   "metadata": {
    "scrolled": false
   },
   "outputs": [],
   "source": [
    "data = data.drop(['gender', 'phone', 'contract_period', 'avg_class_frequency_total'], axis=1)"
   ]
  },
  {
   "cell_type": "markdown",
   "metadata": {},
   "source": [
    "Добавим цвета"
   ]
  },
  {
   "cell_type": "code",
   "execution_count": 310,
   "metadata": {},
   "outputs": [],
   "source": [
    "class color:\n",
    "   PURPLE = '\\033[95m'\n",
    "   CYAN = '\\033[96m'\n",
    "   DARKCYAN = '\\033[36m'\n",
    "   BLUE = '\\033[94m'\n",
    "   GREEN = '\\033[92m'\n",
    "   YELLOW = '\\033[93m'\n",
    "   RED = '\\033[91m'\n",
    "   BOLD = '\\033[1m'\n",
    "   END = '\\033[0m'"
   ]
  },
  {
   "cell_type": "markdown",
   "metadata": {},
   "source": [
    "Покажем где признаки (Х), где целевая переменная, разобьем на тренировочную и тестовую массивы, стандартизируем признаки, перечислим модели, в цикле посмотрим получим прогноз и посмотрим метрики"
   ]
  },
  {
   "cell_type": "code",
   "execution_count": 311,
   "metadata": {},
   "outputs": [
    {
     "name": "stdout",
     "output_type": "stream",
     "text": [
      "LogisticRegression(C=1.0, class_weight=None, dual=False, fit_intercept=True,\n",
      "                   intercept_scaling=1, l1_ratio=None, max_iter=100,\n",
      "                   multi_class='warn', n_jobs=None, penalty='l2',\n",
      "                   random_state=None, solver='warn', tol=0.0001, verbose=0,\n",
      "                   warm_start=False)\n",
      "\u001b[94maccuracy 0.91125\n",
      "precision 0.8288288288288288\n",
      "recall 0.847926267281106\n",
      "\u001b[0m\n",
      "RandomForestClassifier(bootstrap=True, class_weight=None, criterion='gini',\n",
      "                       max_depth=None, max_features='auto', max_leaf_nodes=None,\n",
      "                       min_impurity_decrease=0.0, min_impurity_split=None,\n",
      "                       min_samples_leaf=1, min_samples_split=2,\n",
      "                       min_weight_fraction_leaf=0.0, n_estimators='warn',\n",
      "                       n_jobs=None, oob_score=False, random_state=1, verbose=0,\n",
      "                       warm_start=False)\n",
      "\u001b[94maccuracy 0.89625\n",
      "precision 0.8418367346938775\n",
      "recall 0.7603686635944701\n",
      "\u001b[0m\n"
     ]
    }
   ],
   "source": [
    "X = data.drop(columns = ['churn'])\n",
    "y = data['churn']\n",
    "X_train, X_test, y_train, y_test = train_test_split(X, y, test_size=0.2, random_state = 1)\n",
    "scaler = StandardScaler()\n",
    "X_train_st = scaler.fit_transform(X_train)\n",
    "X_test_st = scaler.fit_transform(X_test)\n",
    "models = [LogisticRegression(), RandomForestClassifier(random_state = 1)]\n",
    "for model_i in models:\n",
    "    print(model_i)\n",
    "    model = model_i\n",
    "    model.fit(X_train_st, y_train)\n",
    "    y_pred = model.predict(X_test_st)\n",
    "    print(color.BLUE + 'accuracy', accuracy_score(y_test, y_pred))\n",
    "    print('precision', precision_score(y_test, y_pred))\n",
    "    print('recall', recall_score(y_test, y_pred))\n",
    "    print(color.END)"
   ]
  },
  {
   "cell_type": "markdown",
   "metadata": {},
   "source": [
    "Метрика у логистической регрессии (accuracy) мне нравится больше. 0,91 против 0,90, тут +- одинаковые значения. (но у нас классы не совсем сбалансированы) надо смотреть метрики которые не опираются на соотношения классов. Precision в линейной 0,825, а в Рандоме - 0,86 победитель лес, а вот при проверке recal в линейной 0,847, в рандоме 0,741 разница более значительна. Предпочтение отдается LogisticRegression. Переходим к 4 шагу."
   ]
  },
  {
   "cell_type": "markdown",
   "metadata": {},
   "source": [
    "## Шаг 4. Кластеризация пользователей <a id=\"4_id\"></a>\n"
   ]
  },
  {
   "cell_type": "markdown",
   "metadata": {},
   "source": [
    "Сделаем дендрограмму. Загрузим нужную библиотеку."
   ]
  },
  {
   "cell_type": "code",
   "execution_count": 312,
   "metadata": {},
   "outputs": [],
   "source": [
    "from scipy.cluster.hierarchy import dendrogram, linkage\n",
    "from sklearn.cluster import KMeans"
   ]
  },
  {
   "cell_type": "markdown",
   "metadata": {},
   "source": [
    "Стандартизируем и передадим функции linkage, которая и выполнит иерархическую кластеризацию. X как раз содержит "
   ]
  },
  {
   "cell_type": "code",
   "execution_count": 313,
   "metadata": {},
   "outputs": [],
   "source": [
    "sc = StandardScaler()\n",
    "x_sc = sc.fit_transform(X)\n",
    "\n",
    "linked = linkage(x_sc, method = 'ward')"
   ]
  },
  {
   "cell_type": "markdown",
   "metadata": {},
   "source": [
    "Собственно строим дендрограмму"
   ]
  },
  {
   "cell_type": "code",
   "execution_count": 314,
   "metadata": {},
   "outputs": [
    {
     "data": {
      "image/png": "[encoded data removed]",
      "text/plain": [
       "<Figure size 1080x720 with 1 Axes>"
      ]
     },
     "metadata": {
      "needs_background": "light"
     },
     "output_type": "display_data"
    }
   ],
   "source": [
    "plt.figure(figsize=(15, 10))  \n",
    "dendrogram(linked, orientation='top')\n",
    "plt.title('Иерархическая стандартизация для сети «Культурист-датасаентист»')\n",
    "plt.show()"
   ]
  },
  {
   "cell_type": "markdown",
   "metadata": {},
   "source": [
    "На дендрограмме 3 кластера, но разобьем на 5 кластеров,зеленый и голубой напрашивается еще поделить"
   ]
  },
  {
   "cell_type": "code",
   "execution_count": 315,
   "metadata": {},
   "outputs": [],
   "source": [
    "sc = StandardScaler()\n",
    "X_sc = sc.fit_transform(X)\n",
    "\n",
    "km = KMeans(n_clusters = 5, random_state=0)\n",
    "labels = km.fit_predict(X_sc)"
   ]
  },
  {
   "cell_type": "markdown",
   "metadata": {},
   "source": [
    "Присоединим группы к базе"
   ]
  },
  {
   "cell_type": "code",
   "execution_count": 316,
   "metadata": {},
   "outputs": [],
   "source": [
    "data = data.set_index(labels).reset_index().rename(columns ={'index':'group'})"
   ]
  },
  {
   "cell_type": "markdown",
   "metadata": {},
   "source": [
    "Посмотрим как распредились клиенты по группам"
   ]
  },
  {
   "cell_type": "code",
   "execution_count": 317,
   "metadata": {},
   "outputs": [
    {
     "data": {
      "text/html": [
       "<style  type=\"text/css\" >\n",
       "    #T_05d22476_b488_11ea_b191_02420a39de91row0_col1 {\n",
       "            width:  10em;\n",
       "             height:  80%;\n",
       "            background:  linear-gradient(90deg,#B0E0E6 100.0%, transparent 100.0%);\n",
       "        }    #T_05d22476_b488_11ea_b191_02420a39de91row1_col1 {\n",
       "            width:  10em;\n",
       "             height:  80%;\n",
       "            background:  linear-gradient(90deg,#B0E0E6 81.1%, transparent 81.1%);\n",
       "        }    #T_05d22476_b488_11ea_b191_02420a39de91row2_col1 {\n",
       "            width:  10em;\n",
       "             height:  80%;\n",
       "            background:  linear-gradient(90deg,#B0E0E6 84.6%, transparent 84.6%);\n",
       "        }    #T_05d22476_b488_11ea_b191_02420a39de91row3_col1 {\n",
       "            width:  10em;\n",
       "             height:  80%;\n",
       "            background:  linear-gradient(90deg,#B0E0E6 61.8%, transparent 61.8%);\n",
       "        }    #T_05d22476_b488_11ea_b191_02420a39de91row4_col1 {\n",
       "            width:  10em;\n",
       "             height:  80%;\n",
       "            background:  linear-gradient(90deg,#B0E0E6 76.2%, transparent 76.2%);\n",
       "        }</style><table id=\"T_05d22476_b488_11ea_b191_02420a39de91\" ><thead>    <tr>        <th class=\"blank level0\" ></th>        <th class=\"col_heading level0 col0\" >group</th>        <th class=\"col_heading level0 col1\" >near_location</th>    </tr></thead><tbody>\n",
       "                <tr>\n",
       "                        <th id=\"T_05d22476_b488_11ea_b191_02420a39de91level0_row0\" class=\"row_heading level0 row0\" >0</th>\n",
       "                        <td id=\"T_05d22476_b488_11ea_b191_02420a39de91row0_col0\" class=\"data row0 col0\" >0</td>\n",
       "                        <td id=\"T_05d22476_b488_11ea_b191_02420a39de91row0_col1\" class=\"data row0 col1\" >991</td>\n",
       "            </tr>\n",
       "            <tr>\n",
       "                        <th id=\"T_05d22476_b488_11ea_b191_02420a39de91level0_row1\" class=\"row_heading level0 row1\" >1</th>\n",
       "                        <td id=\"T_05d22476_b488_11ea_b191_02420a39de91row1_col0\" class=\"data row1 col0\" >1</td>\n",
       "                        <td id=\"T_05d22476_b488_11ea_b191_02420a39de91row1_col1\" class=\"data row1 col1\" >804</td>\n",
       "            </tr>\n",
       "            <tr>\n",
       "                        <th id=\"T_05d22476_b488_11ea_b191_02420a39de91level0_row2\" class=\"row_heading level0 row2\" >2</th>\n",
       "                        <td id=\"T_05d22476_b488_11ea_b191_02420a39de91row2_col0\" class=\"data row2 col0\" >2</td>\n",
       "                        <td id=\"T_05d22476_b488_11ea_b191_02420a39de91row2_col1\" class=\"data row2 col1\" >838</td>\n",
       "            </tr>\n",
       "            <tr>\n",
       "                        <th id=\"T_05d22476_b488_11ea_b191_02420a39de91level0_row3\" class=\"row_heading level0 row3\" >3</th>\n",
       "                        <td id=\"T_05d22476_b488_11ea_b191_02420a39de91row3_col0\" class=\"data row3 col0\" >3</td>\n",
       "                        <td id=\"T_05d22476_b488_11ea_b191_02420a39de91row3_col1\" class=\"data row3 col1\" >612</td>\n",
       "            </tr>\n",
       "            <tr>\n",
       "                        <th id=\"T_05d22476_b488_11ea_b191_02420a39de91level0_row4\" class=\"row_heading level0 row4\" >4</th>\n",
       "                        <td id=\"T_05d22476_b488_11ea_b191_02420a39de91row4_col0\" class=\"data row4 col0\" >4</td>\n",
       "                        <td id=\"T_05d22476_b488_11ea_b191_02420a39de91row4_col1\" class=\"data row4 col1\" >755</td>\n",
       "            </tr>\n",
       "    </tbody></table>"
      ],
      "text/plain": [
       "<pandas.io.formats.style.Styler at 0x7fe8cc88fd10>"
      ]
     },
     "execution_count": 317,
     "metadata": {},
     "output_type": "execute_result"
    }
   ],
   "source": [
    "(data.groupby('group').agg({'near_location':'count'})\n",
    " .reset_index().style.bar(subset=['near_location'], align='mid', color=['#B0E0E6']))"
   ]
  },
  {
   "cell_type": "markdown",
   "metadata": {},
   "source": [
    "Достаточно равномерно (выбиваются группы 3 и 1). Посмотрим средние значения по кластерам"
   ]
  },
  {
   "cell_type": "code",
   "execution_count": 318,
   "metadata": {},
   "outputs": [
    {
     "data": {
      "text/html": [
       "<style  type=\"text/css\" >\n",
       "    #T_05d92d2a_b488_11ea_b191_02420a39de91row0_col1 {\n",
       "            width:  10em;\n",
       "             height:  80%;\n",
       "            background:  linear-gradient(90deg,#B0E0E6 99.5%, transparent 99.5%);\n",
       "        }    #T_05d92d2a_b488_11ea_b191_02420a39de91row0_col2 {\n",
       "            width:  10em;\n",
       "             height:  80%;\n",
       "            background:  linear-gradient(90deg,#B0E0E6 100.0%, transparent 100.0%);\n",
       "        }    #T_05d92d2a_b488_11ea_b191_02420a39de91row0_col3 {\n",
       "            width:  10em;\n",
       "             height:  80%;\n",
       "            background:  linear-gradient(90deg,#B0E0E6 100.0%, transparent 100.0%);\n",
       "        }    #T_05d92d2a_b488_11ea_b191_02420a39de91row0_col4 {\n",
       "            width:  10em;\n",
       "             height:  80%;\n",
       "            background:  linear-gradient(90deg,#B0E0E6 52.9%, transparent 52.9%);\n",
       "        }    #T_05d92d2a_b488_11ea_b191_02420a39de91row0_col5 {\n",
       "            width:  10em;\n",
       "             height:  80%;\n",
       "            background:  linear-gradient(90deg,#B0E0E6 97.7%, transparent 97.7%);\n",
       "        }    #T_05d92d2a_b488_11ea_b191_02420a39de91row0_col6 {\n",
       "            width:  10em;\n",
       "             height:  80%;\n",
       "            background:  linear-gradient(90deg,#B0E0E6 88.6%, transparent 88.6%);\n",
       "        }    #T_05d92d2a_b488_11ea_b191_02420a39de91row0_col7 {\n",
       "            width:  10em;\n",
       "             height:  80%;\n",
       "            background:  linear-gradient(90deg,#B0E0E6 100.0%, transparent 100.0%);\n",
       "        }    #T_05d92d2a_b488_11ea_b191_02420a39de91row0_col8 {\n",
       "            width:  10em;\n",
       "             height:  80%;\n",
       "            background:  linear-gradient(90deg,#B0E0E6 83.7%, transparent 83.7%);\n",
       "        }    #T_05d92d2a_b488_11ea_b191_02420a39de91row0_col9 {\n",
       "            width:  10em;\n",
       "             height:  80%;\n",
       "            background:  linear-gradient(90deg,#B0E0E6 86.4%, transparent 86.4%);\n",
       "        }    #T_05d92d2a_b488_11ea_b191_02420a39de91row0_col10 {\n",
       "            width:  10em;\n",
       "             height:  80%;\n",
       "            background:  linear-gradient(90deg,#B0E0E6 14.0%, transparent 14.0%);\n",
       "        }    #T_05d92d2a_b488_11ea_b191_02420a39de91row1_col1 {\n",
       "            width:  10em;\n",
       "             height:  80%;\n",
       "            background:  linear-gradient(90deg,#B0E0E6 100.0%, transparent 100.0%);\n",
       "        }    #T_05d92d2a_b488_11ea_b191_02420a39de91row1_col2 {\n",
       "            width:  10em;\n",
       "             height:  80%;\n",
       "            background:  linear-gradient(90deg,#B0E0E6 24.4%, transparent 24.4%);\n",
       "        }    #T_05d92d2a_b488_11ea_b191_02420a39de91row1_col3 {\n",
       "            width:  10em;\n",
       "             height:  80%;\n",
       "            background:  linear-gradient(90deg,#B0E0E6 12.2%, transparent 12.2%);\n",
       "        }    #T_05d92d2a_b488_11ea_b191_02420a39de91row1_col4 {\n",
       "            width:  10em;\n",
       "             height:  80%;\n",
       "            background:  linear-gradient(90deg,#B0E0E6 17.9%, transparent 17.9%);\n",
       "        }    #T_05d92d2a_b488_11ea_b191_02420a39de91row1_col5 {\n",
       "            width:  10em;\n",
       "             height:  80%;\n",
       "            background:  linear-gradient(90deg,#B0E0E6 88.2%, transparent 88.2%);\n",
       "        }    #T_05d92d2a_b488_11ea_b191_02420a39de91row1_col6 {\n",
       "            width:  10em;\n",
       "             height:  80%;\n",
       "            background:  linear-gradient(90deg,#B0E0E6 63.7%, transparent 63.7%);\n",
       "        }    #T_05d92d2a_b488_11ea_b191_02420a39de91row1_col7 {\n",
       "            width:  10em;\n",
       "             height:  80%;\n",
       "            background:  linear-gradient(90deg,#B0E0E6 25.3%, transparent 25.3%);\n",
       "        }    #T_05d92d2a_b488_11ea_b191_02420a39de91row1_col8 {\n",
       "            width:  10em;\n",
       "             height:  80%;\n",
       "            background:  linear-gradient(90deg,#B0E0E6 27.3%, transparent 27.3%);\n",
       "        }    #T_05d92d2a_b488_11ea_b191_02420a39de91row1_col9 {\n",
       "            width:  10em;\n",
       "             height:  80%;\n",
       "            background:  linear-gradient(90deg,#B0E0E6 43.8%, transparent 43.8%);\n",
       "        }    #T_05d92d2a_b488_11ea_b191_02420a39de91row1_col10 {\n",
       "            width:  10em;\n",
       "             height:  80%;\n",
       "            background:  linear-gradient(90deg,#B0E0E6 100.0%, transparent 100.0%);\n",
       "        }    #T_05d92d2a_b488_11ea_b191_02420a39de91row2_col1 {\n",
       "            width:  10em;\n",
       "             height:  80%;\n",
       "            background:  linear-gradient(90deg,#B0E0E6 99.9%, transparent 99.9%);\n",
       "        }    #T_05d92d2a_b488_11ea_b191_02420a39de91row2_col2 {\n",
       "            width:  10em;\n",
       "             height:  80%;\n",
       "            background:  linear-gradient(90deg,#B0E0E6 28.5%, transparent 28.5%);\n",
       "        }    #T_05d92d2a_b488_11ea_b191_02420a39de91row2_col3 {\n",
       "            width:  10em;\n",
       "             height:  80%;\n",
       "            background:  linear-gradient(90deg,#B0E0E6 7.8%, transparent 7.8%);\n",
       "        }    #T_05d92d2a_b488_11ea_b191_02420a39de91row2_col4 {\n",
       "            width:  10em;\n",
       "             height:  80%;\n",
       "            background:  linear-gradient(90deg,#B0E0E6 100.0%, transparent 100.0%);\n",
       "        }    #T_05d92d2a_b488_11ea_b191_02420a39de91row2_col5 {\n",
       "            width:  10em;\n",
       "             height:  80%;\n",
       "            background:  linear-gradient(90deg,#B0E0E6 99.7%, transparent 99.7%);\n",
       "        }    #T_05d92d2a_b488_11ea_b191_02420a39de91row2_col6 {\n",
       "            width:  10em;\n",
       "             height:  80%;\n",
       "            background:  linear-gradient(90deg,#B0E0E6 89.0%, transparent 89.0%);\n",
       "        }    #T_05d92d2a_b488_11ea_b191_02420a39de91row2_col7 {\n",
       "            width:  10em;\n",
       "             height:  80%;\n",
       "            background:  linear-gradient(90deg,#B0E0E6 69.4%, transparent 69.4%);\n",
       "        }    #T_05d92d2a_b488_11ea_b191_02420a39de91row2_col8 {\n",
       "            width:  10em;\n",
       "             height:  80%;\n",
       "            background:  linear-gradient(90deg,#B0E0E6 86.5%, transparent 86.5%);\n",
       "        }    #T_05d92d2a_b488_11ea_b191_02420a39de91row2_col9 {\n",
       "            width:  10em;\n",
       "             height:  80%;\n",
       "            background:  linear-gradient(90deg,#B0E0E6 91.0%, transparent 91.0%);\n",
       "        }    #T_05d92d2a_b488_11ea_b191_02420a39de91row2_col10 {\n",
       "            width:  10em;\n",
       "             height:  80%;\n",
       "            background:  linear-gradient(90deg,#B0E0E6 13.0%, transparent 13.0%);\n",
       "        }    #T_05d92d2a_b488_11ea_b191_02420a39de91row3_col1 {\n",
       "            width:  10em;\n",
       "             height:  80%;\n",
       "        }    #T_05d92d2a_b488_11ea_b191_02420a39de91row3_col2 {\n",
       "            width:  10em;\n",
       "             height:  80%;\n",
       "            background:  linear-gradient(90deg,#B0E0E6 51.4%, transparent 51.4%);\n",
       "        }    #T_05d92d2a_b488_11ea_b191_02420a39de91row3_col3 {\n",
       "            width:  10em;\n",
       "             height:  80%;\n",
       "            background:  linear-gradient(90deg,#B0E0E6 7.4%, transparent 7.4%);\n",
       "        }    #T_05d92d2a_b488_11ea_b191_02420a39de91row3_col4 {\n",
       "            width:  10em;\n",
       "             height:  80%;\n",
       "            background:  linear-gradient(90deg,#B0E0E6 23.4%, transparent 23.4%);\n",
       "        }    #T_05d92d2a_b488_11ea_b191_02420a39de91row3_col5 {\n",
       "            width:  10em;\n",
       "             height:  80%;\n",
       "            background:  linear-gradient(90deg,#B0E0E6 94.6%, transparent 94.6%);\n",
       "        }    #T_05d92d2a_b488_11ea_b191_02420a39de91row3_col6 {\n",
       "            width:  10em;\n",
       "             height:  80%;\n",
       "            background:  linear-gradient(90deg,#B0E0E6 78.8%, transparent 78.8%);\n",
       "        }    #T_05d92d2a_b488_11ea_b191_02420a39de91row3_col7 {\n",
       "            width:  10em;\n",
       "             height:  80%;\n",
       "            background:  linear-gradient(90deg,#B0E0E6 42.0%, transparent 42.0%);\n",
       "        }    #T_05d92d2a_b488_11ea_b191_02420a39de91row3_col8 {\n",
       "            width:  10em;\n",
       "             height:  80%;\n",
       "            background:  linear-gradient(90deg,#B0E0E6 58.6%, transparent 58.6%);\n",
       "        }    #T_05d92d2a_b488_11ea_b191_02420a39de91row3_col9 {\n",
       "            width:  10em;\n",
       "             height:  80%;\n",
       "            background:  linear-gradient(90deg,#B0E0E6 71.6%, transparent 71.6%);\n",
       "        }    #T_05d92d2a_b488_11ea_b191_02420a39de91row3_col10 {\n",
       "            width:  10em;\n",
       "             height:  80%;\n",
       "            background:  linear-gradient(90deg,#B0E0E6 54.2%, transparent 54.2%);\n",
       "        }    #T_05d92d2a_b488_11ea_b191_02420a39de91row4_col1 {\n",
       "            width:  10em;\n",
       "             height:  80%;\n",
       "            background:  linear-gradient(90deg,#B0E0E6 99.9%, transparent 99.9%);\n",
       "        }    #T_05d92d2a_b488_11ea_b191_02420a39de91row4_col2 {\n",
       "            width:  10em;\n",
       "             height:  80%;\n",
       "            background:  linear-gradient(90deg,#B0E0E6 39.7%, transparent 39.7%);\n",
       "        }    #T_05d92d2a_b488_11ea_b191_02420a39de91row4_col3 {\n",
       "            width:  10em;\n",
       "             height:  80%;\n",
       "            background:  linear-gradient(90deg,#B0E0E6 4.6%, transparent 4.6%);\n",
       "        }    #T_05d92d2a_b488_11ea_b191_02420a39de91row4_col4 {\n",
       "            width:  10em;\n",
       "             height:  80%;\n",
       "        }    #T_05d92d2a_b488_11ea_b191_02420a39de91row4_col5 {\n",
       "            width:  10em;\n",
       "             height:  80%;\n",
       "            background:  linear-gradient(90deg,#B0E0E6 100.0%, transparent 100.0%);\n",
       "        }    #T_05d92d2a_b488_11ea_b191_02420a39de91row4_col6 {\n",
       "            width:  10em;\n",
       "             height:  80%;\n",
       "            background:  linear-gradient(90deg,#B0E0E6 100.0%, transparent 100.0%);\n",
       "        }    #T_05d92d2a_b488_11ea_b191_02420a39de91row4_col7 {\n",
       "            width:  10em;\n",
       "             height:  80%;\n",
       "            background:  linear-gradient(90deg,#B0E0E6 69.4%, transparent 69.4%);\n",
       "        }    #T_05d92d2a_b488_11ea_b191_02420a39de91row4_col8 {\n",
       "            width:  10em;\n",
       "             height:  80%;\n",
       "            background:  linear-gradient(90deg,#B0E0E6 100.0%, transparent 100.0%);\n",
       "        }    #T_05d92d2a_b488_11ea_b191_02420a39de91row4_col9 {\n",
       "            width:  10em;\n",
       "             height:  80%;\n",
       "            background:  linear-gradient(90deg,#B0E0E6 100.0%, transparent 100.0%);\n",
       "        }    #T_05d92d2a_b488_11ea_b191_02420a39de91row4_col10 {\n",
       "            width:  10em;\n",
       "             height:  80%;\n",
       "            background:  linear-gradient(90deg,#B0E0E6 6.3%, transparent 6.3%);\n",
       "        }</style><table id=\"T_05d92d2a_b488_11ea_b191_02420a39de91\" ><thead>    <tr>        <th class=\"blank level0\" ></th>        <th class=\"col_heading level0 col0\" >group</th>        <th class=\"col_heading level0 col1\" >near_location</th>        <th class=\"col_heading level0 col2\" >partner</th>        <th class=\"col_heading level0 col3\" >promo_friends</th>        <th class=\"col_heading level0 col4\" >group_visits</th>        <th class=\"col_heading level0 col5\" >age</th>        <th class=\"col_heading level0 col6\" >avg_additional_charges_total</th>        <th class=\"col_heading level0 col7\" >month_to_end_contract</th>        <th class=\"col_heading level0 col8\" >lifetime</th>        <th class=\"col_heading level0 col9\" >avg_class_frequency_current_month</th>        <th class=\"col_heading level0 col10\" >churn</th>    </tr></thead><tbody>\n",
       "                <tr>\n",
       "                        <th id=\"T_05d92d2a_b488_11ea_b191_02420a39de91level0_row0\" class=\"row_heading level0 row0\" >0</th>\n",
       "                        <td id=\"T_05d92d2a_b488_11ea_b191_02420a39de91row0_col0\" class=\"data row0 col0\" >0</td>\n",
       "                        <td id=\"T_05d92d2a_b488_11ea_b191_02420a39de91row0_col1\" class=\"data row0 col1\" >0.99495</td>\n",
       "                        <td id=\"T_05d92d2a_b488_11ea_b191_02420a39de91row0_col2\" class=\"data row0 col2\" >0.95459</td>\n",
       "                        <td id=\"T_05d92d2a_b488_11ea_b191_02420a39de91row0_col3\" class=\"data row0 col3\" >1</td>\n",
       "                        <td id=\"T_05d92d2a_b488_11ea_b191_02420a39de91row0_col4\" class=\"data row0 col4\" >0.52876</td>\n",
       "                        <td id=\"T_05d92d2a_b488_11ea_b191_02420a39de91row0_col5\" class=\"data row0 col5\" >29.658</td>\n",
       "                        <td id=\"T_05d92d2a_b488_11ea_b191_02420a39de91row0_col6\" class=\"data row0 col6\" >154.4</td>\n",
       "                        <td id=\"T_05d92d2a_b488_11ea_b191_02420a39de91row0_col7\" class=\"data row0 col7\" >6.7629</td>\n",
       "                        <td id=\"T_05d92d2a_b488_11ea_b191_02420a39de91row0_col8\" class=\"data row0 col8\" >4.3169</td>\n",
       "                        <td id=\"T_05d92d2a_b488_11ea_b191_02420a39de91row0_col9\" class=\"data row0 col9\" >1.9298</td>\n",
       "                        <td id=\"T_05d92d2a_b488_11ea_b191_02420a39de91row0_col10\" class=\"data row0 col10\" >0.10394</td>\n",
       "            </tr>\n",
       "            <tr>\n",
       "                        <th id=\"T_05d92d2a_b488_11ea_b191_02420a39de91level0_row1\" class=\"row_heading level0 row1\" >1</th>\n",
       "                        <td id=\"T_05d92d2a_b488_11ea_b191_02420a39de91row1_col0\" class=\"data row1 col0\" >1</td>\n",
       "                        <td id=\"T_05d92d2a_b488_11ea_b191_02420a39de91row1_col1\" class=\"data row1 col1\" >1</td>\n",
       "                        <td id=\"T_05d92d2a_b488_11ea_b191_02420a39de91row1_col2\" class=\"data row1 col2\" >0.23259</td>\n",
       "                        <td id=\"T_05d92d2a_b488_11ea_b191_02420a39de91row1_col3\" class=\"data row1 col3\" >0.12189</td>\n",
       "                        <td id=\"T_05d92d2a_b488_11ea_b191_02420a39de91row1_col4\" class=\"data row1 col4\" >0.1791</td>\n",
       "                        <td id=\"T_05d92d2a_b488_11ea_b191_02420a39de91row1_col5\" class=\"data row1 col5\" >26.779</td>\n",
       "                        <td id=\"T_05d92d2a_b488_11ea_b191_02420a39de91row1_col6\" class=\"data row1 col6\" >110.93</td>\n",
       "                        <td id=\"T_05d92d2a_b488_11ea_b191_02420a39de91row1_col7\" class=\"data row1 col7\" >1.709</td>\n",
       "                        <td id=\"T_05d92d2a_b488_11ea_b191_02420a39de91row1_col8\" class=\"data row1 col8\" >1.408</td>\n",
       "                        <td id=\"T_05d92d2a_b488_11ea_b191_02420a39de91row1_col9\" class=\"data row1 col9\" >0.97925</td>\n",
       "                        <td id=\"T_05d92d2a_b488_11ea_b191_02420a39de91row1_col10\" class=\"data row1 col10\" >0.74129</td>\n",
       "            </tr>\n",
       "            <tr>\n",
       "                        <th id=\"T_05d92d2a_b488_11ea_b191_02420a39de91level0_row2\" class=\"row_heading level0 row2\" >2</th>\n",
       "                        <td id=\"T_05d92d2a_b488_11ea_b191_02420a39de91row2_col0\" class=\"data row2 col0\" >2</td>\n",
       "                        <td id=\"T_05d92d2a_b488_11ea_b191_02420a39de91row2_col1\" class=\"data row2 col1\" >0.99881</td>\n",
       "                        <td id=\"T_05d92d2a_b488_11ea_b191_02420a39de91row2_col2\" class=\"data row2 col2\" >0.27208</td>\n",
       "                        <td id=\"T_05d92d2a_b488_11ea_b191_02420a39de91row2_col3\" class=\"data row2 col3\" >0.077566</td>\n",
       "                        <td id=\"T_05d92d2a_b488_11ea_b191_02420a39de91row2_col4\" class=\"data row2 col4\" >1</td>\n",
       "                        <td id=\"T_05d92d2a_b488_11ea_b191_02420a39de91row2_col5\" class=\"data row2 col5\" >30.243</td>\n",
       "                        <td id=\"T_05d92d2a_b488_11ea_b191_02420a39de91row2_col6\" class=\"data row2 col6\" >155.16</td>\n",
       "                        <td id=\"T_05d92d2a_b488_11ea_b191_02420a39de91row2_col7\" class=\"data row2 col7\" >4.6921</td>\n",
       "                        <td id=\"T_05d92d2a_b488_11ea_b191_02420a39de91row2_col8\" class=\"data row2 col8\" >4.4654</td>\n",
       "                        <td id=\"T_05d92d2a_b488_11ea_b191_02420a39de91row2_col9\" class=\"data row2 col9\" >2.033</td>\n",
       "                        <td id=\"T_05d92d2a_b488_11ea_b191_02420a39de91row2_col10\" class=\"data row2 col10\" >0.096659</td>\n",
       "            </tr>\n",
       "            <tr>\n",
       "                        <th id=\"T_05d92d2a_b488_11ea_b191_02420a39de91level0_row3\" class=\"row_heading level0 row3\" >3</th>\n",
       "                        <td id=\"T_05d92d2a_b488_11ea_b191_02420a39de91row3_col0\" class=\"data row3 col0\" >3</td>\n",
       "                        <td id=\"T_05d92d2a_b488_11ea_b191_02420a39de91row3_col1\" class=\"data row3 col1\" >0</td>\n",
       "                        <td id=\"T_05d92d2a_b488_11ea_b191_02420a39de91row3_col2\" class=\"data row3 col2\" >0.4902</td>\n",
       "                        <td id=\"T_05d92d2a_b488_11ea_b191_02420a39de91row3_col3\" class=\"data row3 col3\" >0.073529</td>\n",
       "                        <td id=\"T_05d92d2a_b488_11ea_b191_02420a39de91row3_col4\" class=\"data row3 col4\" >0.23366</td>\n",
       "                        <td id=\"T_05d92d2a_b488_11ea_b191_02420a39de91row3_col5\" class=\"data row3 col5\" >28.694</td>\n",
       "                        <td id=\"T_05d92d2a_b488_11ea_b191_02420a39de91row3_col6\" class=\"data row3 col6\" >137.24</td>\n",
       "                        <td id=\"T_05d92d2a_b488_11ea_b191_02420a39de91row3_col7\" class=\"data row3 col7\" >2.8399</td>\n",
       "                        <td id=\"T_05d92d2a_b488_11ea_b191_02420a39de91row3_col8\" class=\"data row3 col8\" >3.0245</td>\n",
       "                        <td id=\"T_05d92d2a_b488_11ea_b191_02420a39de91row3_col9\" class=\"data row3 col9\" >1.5991</td>\n",
       "                        <td id=\"T_05d92d2a_b488_11ea_b191_02420a39de91row3_col10\" class=\"data row3 col10\" >0.40196</td>\n",
       "            </tr>\n",
       "            <tr>\n",
       "                        <th id=\"T_05d92d2a_b488_11ea_b191_02420a39de91level0_row4\" class=\"row_heading level0 row4\" >4</th>\n",
       "                        <td id=\"T_05d92d2a_b488_11ea_b191_02420a39de91row4_col0\" class=\"data row4 col0\" >4</td>\n",
       "                        <td id=\"T_05d92d2a_b488_11ea_b191_02420a39de91row4_col1\" class=\"data row4 col1\" >0.99868</td>\n",
       "                        <td id=\"T_05d92d2a_b488_11ea_b191_02420a39de91row4_col2\" class=\"data row4 col2\" >0.37881</td>\n",
       "                        <td id=\"T_05d92d2a_b488_11ea_b191_02420a39de91row4_col3\" class=\"data row4 col3\" >0.046358</td>\n",
       "                        <td id=\"T_05d92d2a_b488_11ea_b191_02420a39de91row4_col4\" class=\"data row4 col4\" >0</td>\n",
       "                        <td id=\"T_05d92d2a_b488_11ea_b191_02420a39de91row4_col5\" class=\"data row4 col5\" >30.346</td>\n",
       "                        <td id=\"T_05d92d2a_b488_11ea_b191_02420a39de91row4_col6\" class=\"data row4 col6\" >174.25</td>\n",
       "                        <td id=\"T_05d92d2a_b488_11ea_b191_02420a39de91row4_col7\" class=\"data row4 col7\" >4.6954</td>\n",
       "                        <td id=\"T_05d92d2a_b488_11ea_b191_02420a39de91row4_col8\" class=\"data row4 col8\" >5.1603</td>\n",
       "                        <td id=\"T_05d92d2a_b488_11ea_b191_02420a39de91row4_col9\" class=\"data row4 col9\" >2.2333</td>\n",
       "                        <td id=\"T_05d92d2a_b488_11ea_b191_02420a39de91row4_col10\" class=\"data row4 col10\" >0.046358</td>\n",
       "            </tr>\n",
       "    </tbody></table>"
      ],
      "text/plain": [
       "<pandas.io.formats.style.Styler at 0x7fe8cc059610>"
      ]
     },
     "execution_count": 318,
     "metadata": {},
     "output_type": "execute_result"
    }
   ],
   "source": [
    "(data.groupby('group').agg('mean')\n",
    " .reset_index()\n",
    " .style.bar(subset=['near_location', 'partner', 'promo_friends', \n",
    "                    'group_visits', 'age', 'avg_additional_charges_total', \n",
    "                    'month_to_end_contract', 'lifetime', 'avg_class_frequency_current_month',\n",
    "                    'churn'], align='mid', color=['#B0E0E6']).set_precision(5))"
   ]
  },
  {
   "cell_type": "markdown",
   "metadata": {},
   "source": [
    "Поехали читать данные.\n",
    "Начнем с локации, что бросается в глаза группа №3 - это клиенты у которые зал не поблизости от места работы или проживания. т.е Группа 3 - клиенты, которые находятся далеко от спортзала (по кол-ву самая малочисленная)\n",
    "Далее признак работодатель - партнер. В группе №0 почти все клиенты работодатели партнеры самая многочисленная группа.\n",
    "Далее признак промо друга. В группе №0 все клиенты с промо друга.\n",
    "Признак групповые занятия. Не так однозначно. Группа номер 2 целиком состоит из клиентов, групповые визиты совершали и группы 3, 0, 1.\n",
    "Возраст примерно одинаков.\n",
    "Выручка за дополнительные услуги не одинакова и колеблется от 110 до 174.\n",
    "Месяцев до окончания абонемента. Тут выделяется Группа №1 и группа №3.\n",
    "Lifetime тут явно сильно выделяется группа №1. Попробую предположить, что тут новички.\n",
    "Средненедельное посещение в последнем месяце снова выделяются №1 и №3.\n",
    "Выбывают также в основном группы №1 и №3\n",
    "Построим распределения признаков для кластеров. Сделаем массив\n"
   ]
  },
  {
   "cell_type": "markdown",
   "metadata": {},
   "source": [
    "Построим распределения признаков для кластеров. Сделаем массив"
   ]
  },
  {
   "cell_type": "code",
   "execution_count": 319,
   "metadata": {},
   "outputs": [
    {
     "data": {
      "text/html": [
       "<div>\n",
       "<style scoped>\n",
       "    .dataframe tbody tr th:only-of-type {\n",
       "        vertical-align: middle;\n",
       "    }\n",
       "\n",
       "    .dataframe tbody tr th {\n",
       "        vertical-align: top;\n",
       "    }\n",
       "\n",
       "    .dataframe thead th {\n",
       "        text-align: right;\n",
       "    }\n",
       "</style>\n",
       "<table border=\"1\" class=\"dataframe\">\n",
       "  <thead>\n",
       "    <tr style=\"text-align: right;\">\n",
       "      <th></th>\n",
       "      <th>group</th>\n",
       "      <th>near_location</th>\n",
       "      <th>partner</th>\n",
       "      <th>promo_friends</th>\n",
       "      <th>group_visits</th>\n",
       "      <th>age</th>\n",
       "      <th>avg_additional_charges_total</th>\n",
       "      <th>month_to_end_contract</th>\n",
       "      <th>lifetime</th>\n",
       "      <th>avg_class_frequency_current_month</th>\n",
       "      <th>churn</th>\n",
       "    </tr>\n",
       "  </thead>\n",
       "  <tbody>\n",
       "    <tr>\n",
       "      <td>0</td>\n",
       "      <td>0</td>\n",
       "      <td>0.994955</td>\n",
       "      <td>0.954591</td>\n",
       "      <td>1.000000</td>\n",
       "      <td>0.528759</td>\n",
       "      <td>29.657921</td>\n",
       "      <td>154.403718</td>\n",
       "      <td>6.762866</td>\n",
       "      <td>4.316852</td>\n",
       "      <td>1.929820</td>\n",
       "      <td>0.103935</td>\n",
       "    </tr>\n",
       "    <tr>\n",
       "      <td>1</td>\n",
       "      <td>1</td>\n",
       "      <td>1.000000</td>\n",
       "      <td>0.232587</td>\n",
       "      <td>0.121891</td>\n",
       "      <td>0.179104</td>\n",
       "      <td>26.778607</td>\n",
       "      <td>110.931505</td>\n",
       "      <td>1.708955</td>\n",
       "      <td>1.407960</td>\n",
       "      <td>0.979245</td>\n",
       "      <td>0.741294</td>\n",
       "    </tr>\n",
       "    <tr>\n",
       "      <td>2</td>\n",
       "      <td>2</td>\n",
       "      <td>0.998807</td>\n",
       "      <td>0.272076</td>\n",
       "      <td>0.077566</td>\n",
       "      <td>1.000000</td>\n",
       "      <td>30.243437</td>\n",
       "      <td>155.162399</td>\n",
       "      <td>4.692124</td>\n",
       "      <td>4.465394</td>\n",
       "      <td>2.032974</td>\n",
       "      <td>0.096659</td>\n",
       "    </tr>\n",
       "    <tr>\n",
       "      <td>3</td>\n",
       "      <td>3</td>\n",
       "      <td>0.000000</td>\n",
       "      <td>0.490196</td>\n",
       "      <td>0.073529</td>\n",
       "      <td>0.233660</td>\n",
       "      <td>28.694444</td>\n",
       "      <td>137.236762</td>\n",
       "      <td>2.839869</td>\n",
       "      <td>3.024510</td>\n",
       "      <td>1.599137</td>\n",
       "      <td>0.401961</td>\n",
       "    </tr>\n",
       "    <tr>\n",
       "      <td>4</td>\n",
       "      <td>4</td>\n",
       "      <td>0.998675</td>\n",
       "      <td>0.378808</td>\n",
       "      <td>0.046358</td>\n",
       "      <td>0.000000</td>\n",
       "      <td>30.345695</td>\n",
       "      <td>174.247561</td>\n",
       "      <td>4.695364</td>\n",
       "      <td>5.160265</td>\n",
       "      <td>2.233295</td>\n",
       "      <td>0.046358</td>\n",
       "    </tr>\n",
       "  </tbody>\n",
       "</table>\n",
       "</div>"
      ],
      "text/plain": [
       "   group  near_location   partner  promo_friends  group_visits        age  \\\n",
       "0      0       0.994955  0.954591       1.000000      0.528759  29.657921   \n",
       "1      1       1.000000  0.232587       0.121891      0.179104  26.778607   \n",
       "2      2       0.998807  0.272076       0.077566      1.000000  30.243437   \n",
       "3      3       0.000000  0.490196       0.073529      0.233660  28.694444   \n",
       "4      4       0.998675  0.378808       0.046358      0.000000  30.345695   \n",
       "\n",
       "   avg_additional_charges_total  month_to_end_contract  lifetime  \\\n",
       "0                    154.403718               6.762866  4.316852   \n",
       "1                    110.931505               1.708955  1.407960   \n",
       "2                    155.162399               4.692124  4.465394   \n",
       "3                    137.236762               2.839869  3.024510   \n",
       "4                    174.247561               4.695364  5.160265   \n",
       "\n",
       "   avg_class_frequency_current_month     churn  \n",
       "0                           1.929820  0.103935  \n",
       "1                           0.979245  0.741294  \n",
       "2                           2.032974  0.096659  \n",
       "3                           1.599137  0.401961  \n",
       "4                           2.233295  0.046358  "
      ]
     },
     "execution_count": 319,
     "metadata": {},
     "output_type": "execute_result"
    }
   ],
   "source": [
    "groups_grouped = data.groupby('group').agg('mean').reset_index()\n",
    "groups_grouped"
   ]
  },
  {
   "cell_type": "markdown",
   "metadata": {},
   "source": [
    "Построим графики"
   ]
  },
  {
   "cell_type": "code",
   "execution_count": 320,
   "metadata": {},
   "outputs": [
    {
     "data": {
      "text/plain": [
       "<matplotlib.axes._subplots.AxesSubplot at 0x7fe8cbcc7310>"
      ]
     },
     "execution_count": 320,
     "metadata": {},
     "output_type": "execute_result"
    },
    {
     "data": {
      "image/png": "[encoded data removed]",
      "text/plain": [
       "<Figure size 1008x1080 with 9 Axes>"
      ]
     },
     "metadata": {
      "needs_background": "light"
     },
     "output_type": "display_data"
    }
   ],
   "source": [
    "f, axes = plt.subplots(3, 3, figsize=(14, 15), sharex=True)\n",
    "sns.barplot(x=\"group\", y='near_location', data=groups_grouped, ax=axes[0, 0]) \n",
    "sns.barplot(x=\"group\", y='partner', data=groups_grouped, ax=axes[0, 1]) \n",
    "sns.barplot(x=\"group\", y='promo_friends', data=groups_grouped, ax=axes[0, 2]) \n",
    "sns.barplot(x=\"group\", y='group_visits', data=groups_grouped, ax=axes[1, 0]) \n",
    "sns.barplot(x=\"group\", y='avg_additional_charges_total', data=groups_grouped, ax=axes[1, 1]) \n",
    "sns.barplot(x=\"group\", y='month_to_end_contract', data=groups_grouped, ax=axes[1, 2]) \n",
    "sns.barplot(x=\"group\", y='lifetime', data=groups_grouped, ax=axes[2, 0]) \n",
    "sns.barplot(x=\"group\", y='avg_class_frequency_current_month', data=groups_grouped, ax=axes[2, 1]) \n",
    "sns.barplot(x=\"group\", y='churn', data=groups_grouped, ax=axes[2, 2]) \n"
   ]
  },
  {
   "cell_type": "markdown",
   "metadata": {},
   "source": [
    "Визуально оценили данные. Теперь подумаем, как машина раскидала группы и в каком порядке\n",
    "\n",
    "Клиенты, которые живут далеко от фитнеса №3 - Это 1 шаг машины\n",
    "\n",
    "Клиенты, которые воспользовались промо друга №0 - Это 2 шаг машины\n",
    "\n",
    "Клиенты, которые посещают групповые занятия №2 - это 3 шаг машины\n",
    "\n",
    "Клиенты-новички  №1 - это 4 шаг машины\n",
    "\n",
    "Далее по остаточному принципу - клиенты которые купили длительные абонементы и давно в спортзале, предположу что это постоянные \n",
    "клиенты в группе  №4, это 5 шаг машины"
   ]
  },
  {
   "cell_type": "markdown",
   "metadata": {},
   "source": [
    "Для каждого полученного кластера посчитаем долю оттока"
   ]
  },
  {
   "cell_type": "code",
   "execution_count": 321,
   "metadata": {},
   "outputs": [
    {
     "data": {
      "text/html": [
       "<style  type=\"text/css\" >\n",
       "    #T_076bc6b6_b488_11ea_b191_02420a39de91row0_col0 {\n",
       "            background-color:  #f7fbff;\n",
       "            color:  #000000;\n",
       "        }    #T_076bc6b6_b488_11ea_b191_02420a39de91row0_col1 {\n",
       "            background-color:  #e7f0fa;\n",
       "            color:  #000000;\n",
       "        }    #T_076bc6b6_b488_11ea_b191_02420a39de91row1_col0 {\n",
       "            background-color:  #c6dbef;\n",
       "            color:  #000000;\n",
       "        }    #T_076bc6b6_b488_11ea_b191_02420a39de91row1_col1 {\n",
       "            background-color:  #08306b;\n",
       "            color:  #f1f1f1;\n",
       "        }    #T_076bc6b6_b488_11ea_b191_02420a39de91row2_col0 {\n",
       "            background-color:  #6aaed6;\n",
       "            color:  #000000;\n",
       "        }    #T_076bc6b6_b488_11ea_b191_02420a39de91row2_col1 {\n",
       "            background-color:  #e9f2fa;\n",
       "            color:  #000000;\n",
       "        }    #T_076bc6b6_b488_11ea_b191_02420a39de91row3_col0 {\n",
       "            background-color:  #2070b4;\n",
       "            color:  #f1f1f1;\n",
       "        }    #T_076bc6b6_b488_11ea_b191_02420a39de91row3_col1 {\n",
       "            background-color:  #68acd5;\n",
       "            color:  #000000;\n",
       "        }    #T_076bc6b6_b488_11ea_b191_02420a39de91row4_col0 {\n",
       "            background-color:  #08306b;\n",
       "            color:  #f1f1f1;\n",
       "        }    #T_076bc6b6_b488_11ea_b191_02420a39de91row4_col1 {\n",
       "            background-color:  #f7fbff;\n",
       "            color:  #000000;\n",
       "        }</style><table id=\"T_076bc6b6_b488_11ea_b191_02420a39de91\" ><thead>    <tr>        <th class=\"blank level0\" ></th>        <th class=\"col_heading level0 col0\" >group</th>        <th class=\"col_heading level0 col1\" >churn</th>    </tr></thead><tbody>\n",
       "                <tr>\n",
       "                        <th id=\"T_076bc6b6_b488_11ea_b191_02420a39de91level0_row0\" class=\"row_heading level0 row0\" >0</th>\n",
       "                        <td id=\"T_076bc6b6_b488_11ea_b191_02420a39de91row0_col0\" class=\"data row0 col0\" >0</td>\n",
       "                        <td id=\"T_076bc6b6_b488_11ea_b191_02420a39de91row0_col1\" class=\"data row0 col1\" >0.1</td>\n",
       "            </tr>\n",
       "            <tr>\n",
       "                        <th id=\"T_076bc6b6_b488_11ea_b191_02420a39de91level0_row1\" class=\"row_heading level0 row1\" >1</th>\n",
       "                        <td id=\"T_076bc6b6_b488_11ea_b191_02420a39de91row1_col0\" class=\"data row1 col0\" >1</td>\n",
       "                        <td id=\"T_076bc6b6_b488_11ea_b191_02420a39de91row1_col1\" class=\"data row1 col1\" >0.74</td>\n",
       "            </tr>\n",
       "            <tr>\n",
       "                        <th id=\"T_076bc6b6_b488_11ea_b191_02420a39de91level0_row2\" class=\"row_heading level0 row2\" >2</th>\n",
       "                        <td id=\"T_076bc6b6_b488_11ea_b191_02420a39de91row2_col0\" class=\"data row2 col0\" >2</td>\n",
       "                        <td id=\"T_076bc6b6_b488_11ea_b191_02420a39de91row2_col1\" class=\"data row2 col1\" >0.097</td>\n",
       "            </tr>\n",
       "            <tr>\n",
       "                        <th id=\"T_076bc6b6_b488_11ea_b191_02420a39de91level0_row3\" class=\"row_heading level0 row3\" >3</th>\n",
       "                        <td id=\"T_076bc6b6_b488_11ea_b191_02420a39de91row3_col0\" class=\"data row3 col0\" >3</td>\n",
       "                        <td id=\"T_076bc6b6_b488_11ea_b191_02420a39de91row3_col1\" class=\"data row3 col1\" >0.4</td>\n",
       "            </tr>\n",
       "            <tr>\n",
       "                        <th id=\"T_076bc6b6_b488_11ea_b191_02420a39de91level0_row4\" class=\"row_heading level0 row4\" >4</th>\n",
       "                        <td id=\"T_076bc6b6_b488_11ea_b191_02420a39de91row4_col0\" class=\"data row4 col0\" >4</td>\n",
       "                        <td id=\"T_076bc6b6_b488_11ea_b191_02420a39de91row4_col1\" class=\"data row4 col1\" >0.046</td>\n",
       "            </tr>\n",
       "    </tbody></table>"
      ],
      "text/plain": [
       "<pandas.io.formats.style.Styler at 0x7fe8cf781990>"
      ]
     },
     "execution_count": 321,
     "metadata": {},
     "output_type": "execute_result"
    }
   ],
   "source": [
    "data.groupby('group').agg({'churn':'mean'}).reset_index().style.background_gradient(cmap='Blues').set_precision(2)"
   ]
  },
  {
   "cell_type": "markdown",
   "metadata": {},
   "source": [
    "Самый высоки отток однозначно у группы 1 (среднее 0,74). За ней группа 3 (среднее 0,4). Потом с большим разрывом 0 группа (0,1), затем 2 группа (0,097), затем уже 4 (0,046)"
   ]
  },
  {
   "cell_type": "markdown",
   "metadata": {},
   "source": [
    "Что ж, кластеризацию провели, немного разобрали принцип кластеризации, можем теперь его еще кому то объяснить, пора переходить к выводам"
   ]
  },
  {
   "cell_type": "markdown",
   "metadata": {},
   "source": [
    "## Шаг 5. Сформулируем выводы и сделаем базовые рекомендации по работе с клиентами <a id=\"5_id\"></a>"
   ]
  },
  {
   "cell_type": "markdown",
   "metadata": {},
   "source": [
    "Итак, начнем разбираться с группы который имеет самый большой отток - группа №1. Ранее предположил что это группа новичков (они с нами недавно, имеют короткий контракт. Их работодатели чаще не партнеры (соответственно доп скидок не имеют) и не посещают групповые занятия. Все просто. Придумываем им маркетинговую программу по скидкам (партнерам работодателям мы же в состоянии делать) и всячески вовлекаем в групповые занятия (клиенты, которые посещают групповые занятия имеют меньший отток)."
   ]
  },
  {
   "cell_type": "markdown",
   "metadata": {},
   "source": [
    "Следующая проблемная группа - группа №3. Клиенты, которые работают и живут далеко от фитнеса. Что можно сделать. Предусмотреть для таких клиентов бесплатную парковку. Часто данные клиенты имеют скидку за счет работодателя, но не всегда. Может замотивировать скидкой для тех, кто ее не имеет. Ну и также вовлекать в групповые занятия. "
   ]
  },
  {
   "cell_type": "markdown",
   "metadata": {},
   "source": [
    "Для остальных групп тяжело дать рекомендации. Но для тех кто пришли по скидке придется поддерживать эту скидку на будущие периоды, чтобы сократить отток."
   ]
  }
 ],
 "metadata": {
  "kernelspec": {
   "display_name": "Python 3",
   "language": "python",
   "name": "python3"
  },
  "language_info": {
   "codemirror_mode": {
    "name": "ipython",
    "version": 3
   },
   "file_extension": ".py",
   "mimetype": "text/x-python",
   "name": "python",
   "nbconvert_exporter": "python",
   "pygments_lexer": "ipython3",
   "version": "3.7.8"
  }
 },
 "nbformat": 4,
 "nbformat_minor": 2
}
